{
 "cells": [
  {
   "cell_type": "markdown",
   "id": "877af1f9",
   "metadata": {},
   "source": [
    "### NN Basics with keras\n",
    "\n",
    "MNIST dataset\n",
    "\n",
    "https://pythonprogramming.net/introduction-deep-learning-python-tensorflow-keras/"
   ]
  },
  {
   "cell_type": "code",
   "execution_count": 1,
   "id": "88bdfa97",
   "metadata": {},
   "outputs": [],
   "source": [
    "import numpy as np\n",
    "import tensorflow as tf\n",
    "from tensorflow.keras.models import Sequential\n",
    "from tensorflow.keras.layers import Dense, Dropout, Activation, Flatten, Conv2D, MaxPooling2D\n"
   ]
  },
  {
   "cell_type": "code",
   "execution_count": 2,
   "id": "18e77f99",
   "metadata": {},
   "outputs": [],
   "source": [
    "# Load the data\n",
    "mnist = tf.keras.datasets.mnist\n",
    "(x_train, y_train), (x_test, y_test) = mnist.load_data()\n",
    "\n",
    "# Normalise the data (between 0 and 1)\n",
    "x_train = tf.keras.utils.normalize(x_train, axis=1)\n",
    "x_test = tf.keras.utils.normalize(x_test, axis=1)\n"
   ]
  },
  {
   "cell_type": "code",
   "execution_count": 4,
   "id": "1911b697",
   "metadata": {},
   "outputs": [],
   "source": [
    "# Build the model\n",
    "model = Sequential()\n",
    "model.add(Flatten())\n",
    "\n",
    "model.add(Dense(128))\n",
    "model.add(Activation('relu'))\n",
    "\n",
    "model.add(Dense(128))\n",
    "model.add(Activation('relu'))\n",
    "\n",
    "model.add(Dense(10))\n",
    "model.add(Activation('softmax'))\n"
   ]
  },
  {
   "cell_type": "code",
   "execution_count": 5,
   "id": "3af8f587",
   "metadata": {},
   "outputs": [
    {
     "name": "stdout",
     "output_type": "stream",
     "text": [
      "Epoch 1/3\n",
      "1313/1313 [==============================] - 10s 7ms/step - loss: 0.3038 - accuracy: 0.9117 - val_loss: 0.1750 - val_accuracy: 0.9457\n",
      "Epoch 2/3\n",
      "1313/1313 [==============================] - 7s 5ms/step - loss: 0.1230 - accuracy: 0.9630 - val_loss: 0.1246 - val_accuracy: 0.9624\n",
      "Epoch 3/3\n",
      "1313/1313 [==============================] - 8s 6ms/step - loss: 0.0820 - accuracy: 0.9740 - val_loss: 0.1038 - val_accuracy: 0.9693\n"
     ]
    },
    {
     "data": {
      "text/plain": [
       "<keras.callbacks.History at 0x15f454a7b20>"
      ]
     },
     "execution_count": 5,
     "metadata": {},
     "output_type": "execute_result"
    }
   ],
   "source": [
    "# Train the model\n",
    "model.compile(optimizer='adam',\n",
    "             loss='sparse_categorical_crossentropy',\n",
    "             metrics=['accuracy'])\n",
    "\n",
    "model.fit(x_train, y_train, epochs=3, validation_split=0.3)\n"
   ]
  },
  {
   "cell_type": "code",
   "execution_count": 6,
   "id": "674cfa51",
   "metadata": {},
   "outputs": [
    {
     "name": "stdout",
     "output_type": "stream",
     "text": [
      "313/313 [==============================] - 1s 4ms/step - loss: 0.0957 - accuracy: 0.9712\n",
      "0.09566883742809296\n",
      "0.9711999893188477\n"
     ]
    }
   ],
   "source": [
    "# Results on validation set\n",
    "val_loss, val_accuracy= model.evaluate(x_test, y_test)\n",
    "print(val_loss)\n",
    "print(val_accuracy)\n"
   ]
  },
  {
   "cell_type": "code",
   "execution_count": 7,
   "id": "affd5bb0",
   "metadata": {},
   "outputs": [
    {
     "name": "stdout",
     "output_type": "stream",
     "text": [
      "INFO:tensorflow:Assets written to: MNIST.model\\assets\n"
     ]
    }
   ],
   "source": [
    "# Save the model\n",
    "model.save('MNIST.model')"
   ]
  },
  {
   "cell_type": "code",
   "execution_count": 8,
   "id": "559484bb",
   "metadata": {},
   "outputs": [],
   "source": [
    "# Reload the model\n",
    "new_model = tf.keras.models.load_model('MNIST.model')"
   ]
  },
  {
   "cell_type": "code",
   "execution_count": 9,
   "id": "56e4bf96",
   "metadata": {},
   "outputs": [
    {
     "name": "stdout",
     "output_type": "stream",
     "text": [
      "313/313 [==============================] - 1s 3ms/step\n"
     ]
    }
   ],
   "source": [
    "predictions = new_model.predict([x_test])"
   ]
  },
  {
   "cell_type": "code",
   "execution_count": 10,
   "id": "a15af06d",
   "metadata": {},
   "outputs": [
    {
     "data": {
      "text/plain": [
       "7"
      ]
     },
     "execution_count": 10,
     "metadata": {},
     "output_type": "execute_result"
    }
   ],
   "source": [
    "np.argmax(predictions[0])"
   ]
  },
  {
   "cell_type": "code",
   "execution_count": null,
   "id": "6fb79e86",
   "metadata": {},
   "outputs": [],
   "source": []
  }
 ],
 "metadata": {
  "kernelspec": {
   "display_name": "DL",
   "language": "python",
   "name": "dl"
  },
  "language_info": {
   "codemirror_mode": {
    "name": "ipython",
    "version": 3
   },
   "file_extension": ".py",
   "mimetype": "text/x-python",
   "name": "python",
   "nbconvert_exporter": "python",
   "pygments_lexer": "ipython3",
   "version": "3.8.16"
  }
 },
 "nbformat": 4,
 "nbformat_minor": 5
}
