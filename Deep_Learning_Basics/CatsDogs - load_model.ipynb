{
 "cells": [
  {
   "cell_type": "markdown",
   "id": "877af1f9",
   "metadata": {},
   "source": [
    "### ConvNet - load a saved model\n",
    "\n",
    "Cats and Dogs\n",
    "\n",
    "https://pythonprogramming.net/using-trained-model-deep-learning-python-tensorflow-keras/"
   ]
  },
  {
   "cell_type": "code",
   "execution_count": 1,
   "id": "bd36bf62",
   "metadata": {},
   "outputs": [],
   "source": [
    "import cv2\n",
    "import tensorflow as tf\n",
    "import os\n"
   ]
  },
  {
   "cell_type": "code",
   "execution_count": 2,
   "id": "aaa93e48",
   "metadata": {},
   "outputs": [],
   "source": [
    "DATADIR = 'TestImages'"
   ]
  },
  {
   "cell_type": "code",
   "execution_count": 3,
   "id": "bf85d72f",
   "metadata": {},
   "outputs": [],
   "source": [
    "CATEGORIES = ['Dog', 'Cat']\n",
    "\n",
    "def prepare(filepath):\n",
    "    IMG_SIZE = 50\n",
    "    img_array = cv2.imread(filepath, cv2.IMREAD_GRAYSCALE)\n",
    "    new_array = cv2.resize(img_array, (IMG_SIZE, IMG_SIZE))\n",
    "    return new_array.reshape(-1, IMG_SIZE, IMG_SIZE, 1)\n"
   ]
  },
  {
   "cell_type": "code",
   "execution_count": 4,
   "id": "8c5777ec",
   "metadata": {},
   "outputs": [],
   "source": [
    "# Load the model\n",
    "model = tf.keras.models.load_model('64x3-CNN.model')\n"
   ]
  },
  {
   "cell_type": "code",
   "execution_count": 5,
   "id": "bacba6f8",
   "metadata": {},
   "outputs": [
    {
     "name": "stdout",
     "output_type": "stream",
     "text": [
      "1/1 [==============================] - 0s 311ms/step\n",
      "[[0.]]\n",
      "Dog\n"
     ]
    }
   ],
   "source": [
    "prediction = model.predict([prepare(DATADIR + '/0.jpg')])\n",
    "print(prediction)  # will be a list in a list.\n",
    "print(CATEGORIES[int(prediction[0][0])])\n"
   ]
  },
  {
   "cell_type": "code",
   "execution_count": 6,
   "id": "3c78d108",
   "metadata": {},
   "outputs": [
    {
     "name": "stdout",
     "output_type": "stream",
     "text": [
      "1/1 [==============================] - 0s 59ms/step\n",
      "[[0.]]\n",
      "Dog\n",
      "1/1 [==============================] - 0s 44ms/step\n",
      "[[0.]]\n",
      "Dog\n",
      "1/1 [==============================] - 0s 41ms/step\n",
      "[[1.]]\n",
      "Cat\n",
      "1/1 [==============================] - 0s 52ms/step\n",
      "[[1.5126924e-22]]\n",
      "Dog\n",
      "1/1 [==============================] - 0s 50ms/step\n",
      "[[0.]]\n",
      "Dog\n",
      "1/1 [==============================] - 0s 56ms/step\n",
      "[[1.]]\n",
      "Cat\n",
      "1/1 [==============================] - 0s 53ms/step\n",
      "[[1.]]\n",
      "Cat\n",
      "1/1 [==============================] - 0s 50ms/step\n",
      "[[1.]]\n",
      "Cat\n",
      "1/1 [==============================] - 0s 55ms/step\n",
      "[[1.]]\n",
      "Cat\n",
      "1/1 [==============================] - 0s 53ms/step\n",
      "[[6.1094986e-23]]\n",
      "Dog\n"
     ]
    }
   ],
   "source": [
    "# Iterate over each test image\n",
    "for img in os.listdir(DATADIR):\n",
    "    prediction = model.predict([prepare(DATADIR + '/' + img)])\n",
    "    print(prediction)\n",
    "    print(CATEGORIES[int(prediction[0][0])])\n"
   ]
  },
  {
   "cell_type": "code",
   "execution_count": null,
   "id": "76248c69",
   "metadata": {},
   "outputs": [],
   "source": []
  }
 ],
 "metadata": {
  "kernelspec": {
   "display_name": "DL",
   "language": "python",
   "name": "dl"
  },
  "language_info": {
   "codemirror_mode": {
    "name": "ipython",
    "version": 3
   },
   "file_extension": ".py",
   "mimetype": "text/x-python",
   "name": "python",
   "nbconvert_exporter": "python",
   "pygments_lexer": "ipython3",
   "version": "3.8.16"
  }
 },
 "nbformat": 4,
 "nbformat_minor": 5
}
