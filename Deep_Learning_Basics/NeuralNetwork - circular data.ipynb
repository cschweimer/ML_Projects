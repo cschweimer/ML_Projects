{
 "cells": [
  {
   "cell_type": "markdown",
   "id": "ac1c4c11",
   "metadata": {},
   "source": [
    "### NN model"
   ]
  },
  {
   "cell_type": "code",
   "execution_count": 1,
   "id": "657bfb8b",
   "metadata": {},
   "outputs": [],
   "source": [
    "import numpy as np\n",
    "import pandas as pd\n",
    "import matplotlib.pyplot as plt\n",
    "import random\n",
    "import tensorflow as tf\n"
   ]
  },
  {
   "cell_type": "code",
   "execution_count": 2,
   "id": "a83f9580",
   "metadata": {},
   "outputs": [],
   "source": [
    "# Create data\n",
    "dataPoints = 10000\n",
    "\n",
    "X1 = []\n",
    "X2 = []\n",
    "Class = []\n",
    "\n",
    "for i in range(dataPoints):\n",
    "    x1 = np.random.uniform(-2,2)\n",
    "    x2 = np.random.uniform(-2,2)\n",
    "    \n",
    "    X1.append(x1)\n",
    "    X2.append(x2)\n",
    "    \n",
    "    if x1**2 + x2**2 < 1:\n",
    "        Class.append(0)\n",
    "    else:\n",
    "        Class.append(1)\n",
    "    "
   ]
  },
  {
   "cell_type": "code",
   "execution_count": 3,
   "id": "be375023",
   "metadata": {},
   "outputs": [],
   "source": [
    "# Put data in a dataframe\n",
    "df = pd.DataFrame()\n",
    "df['X1'] = X1\n",
    "df['X2'] = X2\n",
    "df['Class'] = Class\n"
   ]
  },
  {
   "cell_type": "code",
   "execution_count": 4,
   "id": "91fe49a3",
   "metadata": {},
   "outputs": [
    {
     "data": {
      "text/plain": [
       "\"\\n# Plot the data\\nplt.figure(figsize=(5,5)) \\nplt.scatter(df[df['Class'] == 1]['X1'], df[df['Class'] == 1]['X2'], s=2, c='red')\\nplt.scatter(df[df['Class'] == 0]['X1'], df[df['Class'] == 0]['X2'], s=2, c='blue')\\nplt.show()\\n\""
      ]
     },
     "execution_count": 4,
     "metadata": {},
     "output_type": "execute_result"
    }
   ],
   "source": [
    "'''\n",
    "# Plot the data\n",
    "plt.figure(figsize=(5,5)) \n",
    "plt.scatter(df[df['Class'] == 1]['X1'], df[df['Class'] == 1]['X2'], s=2, c='red')\n",
    "plt.scatter(df[df['Class'] == 0]['X1'], df[df['Class'] == 0]['X2'], s=2, c='blue')\n",
    "plt.show()\n",
    "'''"
   ]
  },
  {
   "cell_type": "code",
   "execution_count": null,
   "id": "c6c18700",
   "metadata": {},
   "outputs": [],
   "source": []
  },
  {
   "cell_type": "markdown",
   "id": "4557fe88",
   "metadata": {},
   "source": [
    "Train a Neural Network for classification"
   ]
  },
  {
   "cell_type": "code",
   "execution_count": 5,
   "id": "d4be6722",
   "metadata": {},
   "outputs": [
    {
     "name": "stderr",
     "output_type": "stream",
     "text": [
      "C:\\Users\\Christoph\\AppData\\Local\\Temp\\ipykernel_7092\\3205282043.py:2: FutureWarning: In a future version of pandas all arguments of DataFrame.drop except for the argument 'labels' will be keyword-only.\n",
      "  X = np.array(df.drop(['Class'], 1))\n"
     ]
    }
   ],
   "source": [
    "# Separate X values into train-test and then prediction \n",
    "X = np.array(df.drop(['Class'], 1))\n",
    "x_train = X[:dataPoints-20]\n",
    "x_test = X[dataPoints-20:]\n",
    "\n",
    "y = np.array(df['Class'])\n",
    "y_train = y[:dataPoints-20]\n",
    "y_test = y[dataPoints-20:]\n"
   ]
  },
  {
   "cell_type": "code",
   "execution_count": 6,
   "id": "a7f92579",
   "metadata": {},
   "outputs": [],
   "source": [
    "# Build the model\n",
    "model = tf.keras.models.Sequential()\n",
    "model.add(tf.keras.layers.Flatten())\n",
    "model.add(tf.keras.layers.Dense(128, activation=tf.nn.relu))\n",
    "model.add(tf.keras.layers.Dense(128, activation=tf.nn.relu))\n",
    "model.add(tf.keras.layers.Dense(2, activation=tf.nn.softmax))\n"
   ]
  },
  {
   "cell_type": "code",
   "execution_count": 7,
   "id": "c621f450",
   "metadata": {},
   "outputs": [
    {
     "name": "stdout",
     "output_type": "stream",
     "text": [
      "Epoch 1/10\n",
      "312/312 [==============================] - 3s 4ms/step - loss: 0.1813 - accuracy: 0.9149\n",
      "Epoch 2/10\n",
      "312/312 [==============================] - 1s 4ms/step - loss: 0.0373 - accuracy: 0.9900\n",
      "Epoch 3/10\n",
      "312/312 [==============================] - 1s 4ms/step - loss: 0.0260 - accuracy: 0.9919\n",
      "Epoch 4/10\n",
      "312/312 [==============================] - 1s 4ms/step - loss: 0.0241 - accuracy: 0.9903\n",
      "Epoch 5/10\n",
      "312/312 [==============================] - 1s 4ms/step - loss: 0.0221 - accuracy: 0.9913\n",
      "Epoch 6/10\n",
      "312/312 [==============================] - 1s 4ms/step - loss: 0.0180 - accuracy: 0.9935\n",
      "Epoch 7/10\n",
      "312/312 [==============================] - 1s 4ms/step - loss: 0.0202 - accuracy: 0.9918\n",
      "Epoch 8/10\n",
      "312/312 [==============================] - 1s 4ms/step - loss: 0.0150 - accuracy: 0.9945\n",
      "Epoch 9/10\n",
      "312/312 [==============================] - 1s 4ms/step - loss: 0.0182 - accuracy: 0.9932\n",
      "Epoch 10/10\n",
      "312/312 [==============================] - 1s 4ms/step - loss: 0.0166 - accuracy: 0.9931\n"
     ]
    },
    {
     "data": {
      "text/plain": [
       "<keras.callbacks.History at 0x16df2dca7c0>"
      ]
     },
     "execution_count": 7,
     "metadata": {},
     "output_type": "execute_result"
    }
   ],
   "source": [
    "# Train the model\n",
    "model.compile(optimizer='adam',\n",
    "             loss='sparse_categorical_crossentropy',\n",
    "             metrics=['accuracy'])\n",
    "\n",
    "model.fit(x_train, y_train, epochs=10)\n"
   ]
  },
  {
   "cell_type": "code",
   "execution_count": 8,
   "id": "b623b84c",
   "metadata": {},
   "outputs": [
    {
     "name": "stdout",
     "output_type": "stream",
     "text": [
      "1/1 [==============================] - 0s 459ms/step - loss: 5.0366e-05 - accuracy: 1.0000\n",
      "5.0365564675303176e-05\n",
      "1.0\n"
     ]
    }
   ],
   "source": [
    "# Results on validation set\n",
    "val_loss, val_accuracy= model.evaluate(x_test, y_test)\n",
    "print(val_loss)\n",
    "print(val_accuracy)\n"
   ]
  },
  {
   "cell_type": "code",
   "execution_count": 9,
   "id": "ec874fc8",
   "metadata": {},
   "outputs": [
    {
     "name": "stdout",
     "output_type": "stream",
     "text": [
      "WARNING:tensorflow:Layers in a Sequential model should only have a single input tensor. Received: inputs=(<tf.Tensor 'IteratorGetNext:0' shape=(None, 2) dtype=float32>,). Consider rewriting this model with the Functional API.\n",
      "1/1 [==============================] - 0s 234ms/step\n"
     ]
    }
   ],
   "source": [
    "predictions = model.predict([x_test])"
   ]
  },
  {
   "cell_type": "code",
   "execution_count": 18,
   "id": "e42bf8a4",
   "metadata": {},
   "outputs": [
    {
     "name": "stdout",
     "output_type": "stream",
     "text": [
      "1 1\n",
      "1 1\n",
      "1 1\n",
      "0 0\n",
      "1 1\n",
      "1 1\n",
      "0 0\n",
      "0 0\n",
      "1 1\n",
      "1 1\n",
      "0 0\n",
      "0 0\n",
      "1 1\n",
      "1 1\n",
      "1 1\n",
      "0 0\n",
      "1 1\n",
      "1 1\n",
      "0 0\n",
      "1 1\n"
     ]
    }
   ],
   "source": [
    "# Compare results and actual label\n",
    "for i in range(len(x_test)):\n",
    "    print(np.argmax(predictions[i]), y_test[i])\n",
    "    "
   ]
  },
  {
   "cell_type": "code",
   "execution_count": null,
   "id": "3b54a6f7",
   "metadata": {},
   "outputs": [],
   "source": []
  }
 ],
 "metadata": {
  "kernelspec": {
   "display_name": "DL",
   "language": "python",
   "name": "dl"
  },
  "language_info": {
   "codemirror_mode": {
    "name": "ipython",
    "version": 3
   },
   "file_extension": ".py",
   "mimetype": "text/x-python",
   "name": "python",
   "nbconvert_exporter": "python",
   "pygments_lexer": "ipython3",
   "version": "3.8.16"
  }
 },
 "nbformat": 4,
 "nbformat_minor": 5
}
