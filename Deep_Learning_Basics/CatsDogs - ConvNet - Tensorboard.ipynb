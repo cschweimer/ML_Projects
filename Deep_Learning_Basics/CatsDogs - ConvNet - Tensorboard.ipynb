{
 "cells": [
  {
   "cell_type": "markdown",
   "id": "877af1f9",
   "metadata": {},
   "source": [
    "### ConvNet - model analysis with tensorboard\n",
    "\n",
    "Cats and Dogs\n",
    "\n",
    "more info on callbakcs: https://keras.io/callbacks/ \n",
    "\n",
    "https://pythonprogramming.net/tensorboard-analysis-deep-learning-python-tensorflow-keras/"
   ]
  },
  {
   "cell_type": "code",
   "execution_count": 1,
   "id": "88bdfa97",
   "metadata": {},
   "outputs": [],
   "source": [
    "import tensorflow as tf\n",
    "from tensorflow.keras.models import Sequential\n",
    "from tensorflow.keras.layers import Dense, Dropout, Activation, Flatten, Conv2D, MaxPooling2D\n",
    "from tensorflow.keras.callbacks import TensorBoard\n",
    "import pickle\n",
    "import time\n"
   ]
  },
  {
   "cell_type": "code",
   "execution_count": 2,
   "id": "ff2e8d1e",
   "metadata": {},
   "outputs": [],
   "source": [
    "# Read the training data\n",
    "pickle_in = open('X.pickle','rb')\n",
    "X = pickle.load(pickle_in)\n",
    "\n",
    "pickle_in = open('y.pickle','rb')\n",
    "y = pickle.load(pickle_in)\n"
   ]
  },
  {
   "cell_type": "code",
   "execution_count": 3,
   "id": "7dc51668",
   "metadata": {},
   "outputs": [],
   "source": [
    "# Scale the data\n",
    "X = X/255.0"
   ]
  },
  {
   "cell_type": "code",
   "execution_count": 5,
   "id": "03765791",
   "metadata": {},
   "outputs": [],
   "source": [
    "# Model name\n",
    "NAME = 'Cats-vs-dogs-CNN'"
   ]
  },
  {
   "cell_type": "code",
   "execution_count": 6,
   "id": "ca840085",
   "metadata": {},
   "outputs": [],
   "source": [
    "# Build the model\n",
    "model = Sequential()\n",
    "\n",
    "model.add(Conv2D(256, (3,3), input_shape=X.shape[1:]))\n",
    "model.add(Activation('relu'))\n",
    "model.add(MaxPooling2D(pool_size=(2,2)))\n",
    "\n",
    "model.add(Conv2D(256, (3,3)))\n",
    "model.add(Activation('relu'))\n",
    "model.add(MaxPooling2D(pool_size=(2,2)))\n",
    "\n",
    "model.add(Flatten())  # this converts our 3D feature maps to 1D feature vectors\n",
    "\n",
    "model.add(Dense(64))\n",
    "model.add(Activation('relu'))\n",
    "\n",
    "model.add(Dense(1))\n",
    "model.add(Activation('sigmoid'))\n"
   ]
  },
  {
   "cell_type": "code",
   "execution_count": 7,
   "id": "dbba144b",
   "metadata": {},
   "outputs": [
    {
     "name": "stdout",
     "output_type": "stream",
     "text": [
      "Epoch 1/3\n",
      "546/546 [==============================] - 267s 488ms/step - loss: 0.6450 - accuracy: 0.6223 - val_loss: 0.6116 - val_accuracy: 0.6788\n",
      "Epoch 2/3\n",
      "546/546 [==============================] - 286s 525ms/step - loss: 0.5586 - accuracy: 0.7163 - val_loss: 0.5363 - val_accuracy: 0.7372\n",
      "Epoch 3/3\n",
      "546/546 [==============================] - 270s 495ms/step - loss: 0.4902 - accuracy: 0.7644 - val_loss: 0.5147 - val_accuracy: 0.7508\n"
     ]
    },
    {
     "data": {
      "text/plain": [
       "<keras.callbacks.History at 0x2bf1646e2b0>"
      ]
     },
     "execution_count": 7,
     "metadata": {},
     "output_type": "execute_result"
    }
   ],
   "source": [
    "# Train the model\n",
    "tensorboard = TensorBoard(log_dir='logs/{}'.format(NAME))\n",
    "\n",
    "model.compile(loss='binary_crossentropy',\n",
    "              optimizer='adam',\n",
    "              metrics=['accuracy'],\n",
    "              )\n",
    "\n",
    "model.fit(X, y,\n",
    "          batch_size=32,\n",
    "          epochs=3,\n",
    "          validation_split=0.3,\n",
    "          callbacks=[tensorboard])\n"
   ]
  },
  {
   "cell_type": "code",
   "execution_count": null,
   "id": "d1a4e871",
   "metadata": {},
   "outputs": [],
   "source": []
  },
  {
   "cell_type": "markdown",
   "id": "9690595a",
   "metadata": {},
   "source": [
    "- Activate the Environment in the command shell in the main directory that has the folder logs\n",
    "\n",
    "- Type tensorboard --logdir=logs \n",
    "\n",
    "- Copy the address into the browser for analysis"
   ]
  },
  {
   "cell_type": "code",
   "execution_count": null,
   "id": "8d9f95c2",
   "metadata": {},
   "outputs": [],
   "source": []
  }
 ],
 "metadata": {
  "kernelspec": {
   "display_name": "DL",
   "language": "python",
   "name": "dl"
  },
  "language_info": {
   "codemirror_mode": {
    "name": "ipython",
    "version": 3
   },
   "file_extension": ".py",
   "mimetype": "text/x-python",
   "name": "python",
   "nbconvert_exporter": "python",
   "pygments_lexer": "ipython3",
   "version": "3.8.16"
  }
 },
 "nbformat": 4,
 "nbformat_minor": 5
}
