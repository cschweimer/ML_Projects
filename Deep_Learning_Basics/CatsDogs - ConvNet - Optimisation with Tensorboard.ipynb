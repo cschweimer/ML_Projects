{
 "cells": [
  {
   "cell_type": "markdown",
   "id": "877af1f9",
   "metadata": {},
   "source": [
    "### ConvNet - model analysis with tensorboard\n",
    "\n",
    "Cats and Dogs\n",
    "\n",
    "more info on callbakcs: https://keras.io/callbacks/ \n",
    "\n",
    "https://pythonprogramming.net/tensorboard-optimizing-models-deep-learning-python-tensorflow-keras/"
   ]
  },
  {
   "cell_type": "code",
   "execution_count": 1,
   "id": "88bdfa97",
   "metadata": {},
   "outputs": [],
   "source": [
    "import tensorflow as tf\n",
    "from tensorflow.keras.models import Sequential\n",
    "from tensorflow.keras.layers import Dense, Dropout, Activation, Flatten, Conv2D, MaxPooling2D\n",
    "from tensorflow.keras.callbacks import TensorBoard\n",
    "import pickle\n",
    "import time\n"
   ]
  },
  {
   "cell_type": "code",
   "execution_count": 2,
   "id": "ff2e8d1e",
   "metadata": {},
   "outputs": [],
   "source": [
    "# Read the training data\n",
    "pickle_in = open('X.pickle','rb')\n",
    "X = pickle.load(pickle_in)\n",
    "\n",
    "pickle_in = open('y.pickle','rb')\n",
    "y = pickle.load(pickle_in)\n"
   ]
  },
  {
   "cell_type": "code",
   "execution_count": 3,
   "id": "7dc51668",
   "metadata": {},
   "outputs": [],
   "source": [
    "# Scale the data\n",
    "X = X/255.0"
   ]
  },
  {
   "cell_type": "code",
   "execution_count": 4,
   "id": "03765791",
   "metadata": {},
   "outputs": [],
   "source": [
    "# Model name\n",
    "NAME = 'Cats-vs-dogs-CNN'"
   ]
  },
  {
   "cell_type": "code",
   "execution_count": 5,
   "id": "ca840085",
   "metadata": {},
   "outputs": [
    {
     "name": "stdout",
     "output_type": "stream",
     "text": [
      "Epoch 1/3\n",
      "546/546 [==============================] - 8s 12ms/step - loss: 0.6280 - accuracy: 0.6447 - val_loss: 0.5921 - val_accuracy: 0.6875\n",
      "Epoch 2/3\n",
      "546/546 [==============================] - 7s 12ms/step - loss: 0.5522 - accuracy: 0.7211 - val_loss: 0.6144 - val_accuracy: 0.6704\n",
      "Epoch 3/3\n",
      "546/546 [==============================] - 7s 12ms/step - loss: 0.5226 - accuracy: 0.7416 - val_loss: 0.5549 - val_accuracy: 0.7158\n",
      "Epoch 1/3\n",
      "546/546 [==============================] - 12s 21ms/step - loss: 0.6365 - accuracy: 0.6305 - val_loss: 0.6421 - val_accuracy: 0.6354\n",
      "Epoch 2/3\n",
      "546/546 [==============================] - 11s 20ms/step - loss: 0.5504 - accuracy: 0.7206 - val_loss: 0.5466 - val_accuracy: 0.7254\n",
      "Epoch 3/3\n",
      "546/546 [==============================] - 11s 19ms/step - loss: 0.5078 - accuracy: 0.7535 - val_loss: 0.4997 - val_accuracy: 0.7606\n",
      "Epoch 1/3\n",
      "546/546 [==============================] - 14s 23ms/step - loss: 0.6498 - accuracy: 0.6104 - val_loss: 0.6240 - val_accuracy: 0.6542\n",
      "Epoch 2/3\n",
      "546/546 [==============================] - 12s 22ms/step - loss: 0.5679 - accuracy: 0.7063 - val_loss: 0.5527 - val_accuracy: 0.7197\n",
      "Epoch 3/3\n",
      "546/546 [==============================] - 12s 23ms/step - loss: 0.5160 - accuracy: 0.7461 - val_loss: 0.5366 - val_accuracy: 0.7333\n",
      "Epoch 1/3\n",
      "546/546 [==============================] - 17s 29ms/step - loss: 0.6209 - accuracy: 0.6551 - val_loss: 0.5858 - val_accuracy: 0.6869\n",
      "Epoch 2/3\n",
      "546/546 [==============================] - 13s 23ms/step - loss: 0.5447 - accuracy: 0.7269 - val_loss: 0.5706 - val_accuracy: 0.7117\n",
      "Epoch 3/3\n",
      "546/546 [==============================] - 14s 25ms/step - loss: 0.5069 - accuracy: 0.7572 - val_loss: 0.5344 - val_accuracy: 0.7448\n",
      "Epoch 1/3\n",
      "546/546 [==============================] - 30s 53ms/step - loss: 0.6152 - accuracy: 0.6503 - val_loss: 0.5502 - val_accuracy: 0.7230\n",
      "Epoch 2/3\n",
      "546/546 [==============================] - 30s 54ms/step - loss: 0.5223 - accuracy: 0.7434 - val_loss: 0.5088 - val_accuracy: 0.7544\n",
      "Epoch 3/3\n",
      "546/546 [==============================] - 30s 55ms/step - loss: 0.4852 - accuracy: 0.7693 - val_loss: 0.4855 - val_accuracy: 0.7700\n",
      "Epoch 1/3\n",
      "546/546 [==============================] - 35s 63ms/step - loss: 0.6568 - accuracy: 0.6028 - val_loss: 0.6211 - val_accuracy: 0.6617\n",
      "Epoch 2/3\n",
      "546/546 [==============================] - 35s 65ms/step - loss: 0.5627 - accuracy: 0.7128 - val_loss: 0.5340 - val_accuracy: 0.7361\n",
      "Epoch 3/3\n",
      "546/546 [==============================] - 36s 66ms/step - loss: 0.5020 - accuracy: 0.7562 - val_loss: 0.4921 - val_accuracy: 0.7658\n",
      "Epoch 1/3\n",
      "546/546 [==============================] - 25s 45ms/step - loss: 0.6188 - accuracy: 0.6577 - val_loss: 0.5742 - val_accuracy: 0.7058\n",
      "Epoch 2/3\n",
      "546/546 [==============================] - 24s 44ms/step - loss: 0.5414 - accuracy: 0.7322 - val_loss: 0.5823 - val_accuracy: 0.7016\n",
      "Epoch 3/3\n",
      "546/546 [==============================] - 23s 41ms/step - loss: 0.5002 - accuracy: 0.7589 - val_loss: 0.5772 - val_accuracy: 0.7048\n",
      "Epoch 1/3\n",
      "289/546 [==============>...............] - ETA: 34s - loss: 0.6581 - accuracy: 0.6064"
     ]
    },
    {
     "name": "stderr",
     "output_type": "stream",
     "text": [
      "\n",
      "KeyboardInterrupt\n",
      "\n"
     ]
    }
   ],
   "source": [
    "# Build all the models\n",
    "dense_layers = [0, 1, 2]\n",
    "layer_sizes = [32, 64, 128]\n",
    "conv_layers = [1, 2, 3]\n",
    "\n",
    "for dense_layer in dense_layers:\n",
    "    for layer_size in layer_sizes:\n",
    "        for conv_layer in conv_layers:\n",
    "            NAME = '{}-conv-{}-nodes-{}-dense-{}'.format(conv_layer, layer_size, dense_layer, int(time.time()))\n",
    "            #print(NAME)\n",
    "            \n",
    "            model = Sequential()\n",
    "\n",
    "            model.add(Conv2D(layer_size, (3,3), input_shape=X.shape[1:]))\n",
    "            model.add(Activation('relu'))\n",
    "            model.add(MaxPooling2D(pool_size=(2,2)))\n",
    "\n",
    "            for l in range(conv_layer-1):\n",
    "                model.add(Conv2D(layer_size, (3,3)))\n",
    "                model.add(Activation('relu'))\n",
    "                model.add(MaxPooling2D(pool_size=(2,2)))\n",
    "\n",
    "            model.add(Flatten())\n",
    "\n",
    "            for _ in range(dense_layer):\n",
    "                model.add(Dense(layer_size))\n",
    "                model.add(Activation('relu'))\n",
    "\n",
    "            model.add(Dense(1))\n",
    "            model.add(Activation('sigmoid'))\n",
    "            \n",
    "            # Train the models\n",
    "            tensorboard = TensorBoard(log_dir='logs/{}'.format(NAME))\n",
    "\n",
    "            model.compile(loss='binary_crossentropy',\n",
    "                          optimizer='adam',\n",
    "                          metrics=['accuracy'],\n",
    "                          )\n",
    "\n",
    "            model.fit(X, y,\n",
    "                      batch_size=32,\n",
    "                      epochs=3,\n",
    "                      validation_split=0.3,\n",
    "                      callbacks=[tensorboard])\n"
   ]
  },
  {
   "cell_type": "markdown",
   "id": "9690595a",
   "metadata": {},
   "source": [
    "- Activate the Environment in the command shell in the main directory that has the folder logs\n",
    "\n",
    "- Type tensorboard --logdir=logs \n",
    "\n",
    "- Copy the address into the browser for analysis"
   ]
  },
  {
   "cell_type": "code",
   "execution_count": null,
   "id": "8d9f95c2",
   "metadata": {},
   "outputs": [],
   "source": []
  },
  {
   "cell_type": "code",
   "execution_count": 4,
   "id": "e3b024ed",
   "metadata": {},
   "outputs": [
    {
     "name": "stdout",
     "output_type": "stream",
     "text": [
      "Epoch 1/10\n",
      "546/546 [==============================] - 45s 77ms/step - loss: 0.6537 - accuracy: 0.6061 - val_loss: 0.5962 - val_accuracy: 0.6926\n",
      "Epoch 2/10\n",
      "546/546 [==============================] - 43s 79ms/step - loss: 0.5577 - accuracy: 0.7129 - val_loss: 0.5212 - val_accuracy: 0.7374\n",
      "Epoch 3/10\n",
      "546/546 [==============================] - 44s 80ms/step - loss: 0.5004 - accuracy: 0.7592 - val_loss: 0.5026 - val_accuracy: 0.7572\n",
      "Epoch 4/10\n",
      "546/546 [==============================] - 46s 84ms/step - loss: 0.4623 - accuracy: 0.7836 - val_loss: 0.4792 - val_accuracy: 0.7700\n",
      "Epoch 5/10\n",
      "546/546 [==============================] - 44s 80ms/step - loss: 0.4298 - accuracy: 0.8013 - val_loss: 0.4602 - val_accuracy: 0.7809\n",
      "Epoch 6/10\n",
      "546/546 [==============================] - 42s 77ms/step - loss: 0.4007 - accuracy: 0.8173 - val_loss: 0.4922 - val_accuracy: 0.7666\n",
      "Epoch 7/10\n",
      "546/546 [==============================] - 43s 79ms/step - loss: 0.3759 - accuracy: 0.8312 - val_loss: 0.4414 - val_accuracy: 0.7978\n",
      "Epoch 8/10\n",
      "546/546 [==============================] - 44s 80ms/step - loss: 0.3537 - accuracy: 0.8416 - val_loss: 0.4325 - val_accuracy: 0.8037\n",
      "Epoch 9/10\n",
      "546/546 [==============================] - 44s 80ms/step - loss: 0.3220 - accuracy: 0.8594 - val_loss: 0.4398 - val_accuracy: 0.7962\n",
      "Epoch 10/10\n",
      "546/546 [==============================] - 44s 81ms/step - loss: 0.2986 - accuracy: 0.8701 - val_loss: 0.5038 - val_accuracy: 0.7759\n"
     ]
    },
    {
     "name": "stderr",
     "output_type": "stream",
     "text": [
      "WARNING:absl:Found untraced functions such as _jit_compiled_convolution_op, _jit_compiled_convolution_op, _jit_compiled_convolution_op while saving (showing 3 of 3). These functions will not be directly callable after loading.\n"
     ]
    },
    {
     "name": "stdout",
     "output_type": "stream",
     "text": [
      "INFO:tensorflow:Assets written to: 64x3-CNN.model\\assets\n"
     ]
    },
    {
     "name": "stderr",
     "output_type": "stream",
     "text": [
      "INFO:tensorflow:Assets written to: 64x3-CNN.model\\assets\n"
     ]
    }
   ],
   "source": [
    "# Build one model\n",
    "dense_layers = [0]\n",
    "layer_sizes = [64]\n",
    "conv_layers = [3]\n",
    "\n",
    "for dense_layer in dense_layers:\n",
    "    for layer_size in layer_sizes:\n",
    "        for conv_layer in conv_layers:\n",
    "            NAME = '{}-conv-{}-nodes-{}-dense-{}'.format(conv_layer, layer_size, dense_layer, int(time.time()))\n",
    "            #print(NAME)\n",
    "            \n",
    "            model = Sequential()\n",
    "\n",
    "            model.add(Conv2D(layer_size, (3,3), input_shape=X.shape[1:]))\n",
    "            model.add(Activation('relu'))\n",
    "            model.add(MaxPooling2D(pool_size=(2,2)))\n",
    "\n",
    "            for l in range(conv_layer-1):\n",
    "                model.add(Conv2D(layer_size, (3,3)))\n",
    "                model.add(Activation('relu'))\n",
    "                model.add(MaxPooling2D(pool_size=(2,2)))\n",
    "\n",
    "            model.add(Flatten())\n",
    "\n",
    "            for _ in range(dense_layer):\n",
    "                model.add(Dense(layer_size))\n",
    "                model.add(Activation('relu'))\n",
    "\n",
    "            model.add(Dense(1))\n",
    "            model.add(Activation('sigmoid'))\n",
    "            \n",
    "            # Train the models\n",
    "            tensorboard = TensorBoard(log_dir='logs/{}'.format(NAME))\n",
    "\n",
    "            model.compile(loss='binary_crossentropy',\n",
    "                          optimizer='adam',\n",
    "                          metrics=['accuracy'],\n",
    "                          )\n",
    "\n",
    "            model.fit(X, y,\n",
    "                      batch_size=32,\n",
    "                      epochs=10,\n",
    "                      validation_split=0.3,\n",
    "                      callbacks=[tensorboard])\n",
    "\n",
    "# Save one model\n",
    "model.save('64x3-CNN.model')\n"
   ]
  },
  {
   "cell_type": "code",
   "execution_count": null,
   "id": "cfbdefa1",
   "metadata": {},
   "outputs": [],
   "source": []
  }
 ],
 "metadata": {
  "kernelspec": {
   "display_name": "DL",
   "language": "python",
   "name": "dl"
  },
  "language_info": {
   "codemirror_mode": {
    "name": "ipython",
    "version": 3
   },
   "file_extension": ".py",
   "mimetype": "text/x-python",
   "name": "python",
   "nbconvert_exporter": "python",
   "pygments_lexer": "ipython3",
   "version": "3.8.16"
  }
 },
 "nbformat": 4,
 "nbformat_minor": 5
}
