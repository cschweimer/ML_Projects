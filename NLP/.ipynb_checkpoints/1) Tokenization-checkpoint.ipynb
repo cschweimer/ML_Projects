{
 "cells": [
  {
   "cell_type": "markdown",
   "id": "d10f174d",
   "metadata": {},
   "source": [
    "### Sentdex Tutorial"
   ]
  },
  {
   "cell_type": "markdown",
   "id": "3536bb42",
   "metadata": {},
   "source": [
    "https://pythonprogramming.net/tokenizing-words-sentences-nltk-tutorial/"
   ]
  },
  {
   "cell_type": "code",
   "execution_count": 1,
   "id": "6d20b29a",
   "metadata": {},
   "outputs": [],
   "source": [
    "import nltk"
   ]
  },
  {
   "cell_type": "code",
   "execution_count": 2,
   "id": "9b134b96",
   "metadata": {},
   "outputs": [
    {
     "name": "stdout",
     "output_type": "stream",
     "text": [
      "showing info https://raw.githubusercontent.com/nltk/nltk_data/gh-pages/index.xml\n"
     ]
    },
    {
     "data": {
      "text/plain": [
       "True"
      ]
     },
     "execution_count": 2,
     "metadata": {},
     "output_type": "execute_result"
    }
   ],
   "source": [
    "# opens a pop-up window -> Download all\n",
    "nltk.download()"
   ]
  },
  {
   "cell_type": "code",
   "execution_count": 7,
   "id": "dba6883a",
   "metadata": {},
   "outputs": [],
   "source": [
    "# tokenizing: seperate a text, e.g., by words or sentences\n",
    "# corpora: body of text, e.g., medical journals\n",
    "# lexicon: words and their meanings; different depending on context\n"
   ]
  },
  {
   "cell_type": "code",
   "execution_count": null,
   "id": "cf5bc0a8",
   "metadata": {},
   "outputs": [],
   "source": []
  },
  {
   "cell_type": "markdown",
   "id": "2c3eb8ea",
   "metadata": {},
   "source": [
    "### Tokenization\n",
    "\n",
    "Separate a text word by word or sentence by sentence"
   ]
  },
  {
   "cell_type": "code",
   "execution_count": 3,
   "id": "48476250",
   "metadata": {},
   "outputs": [],
   "source": [
    "from nltk.tokenize import sent_tokenize, word_tokenize"
   ]
  },
  {
   "cell_type": "code",
   "execution_count": 4,
   "id": "a45cc1ac",
   "metadata": {},
   "outputs": [],
   "source": [
    "example_text = 'Hello Mr. Smith, how are you doing today? The weather is great and Python is awesome. The sky is pinkish-blue. You should not eat cardboard.'"
   ]
  },
  {
   "cell_type": "code",
   "execution_count": 5,
   "id": "f8295030",
   "metadata": {},
   "outputs": [
    {
     "name": "stdout",
     "output_type": "stream",
     "text": [
      "['Hello Mr. Smith, how are you doing today?', 'The weather is great and Python is awesome.', 'The sky is pinkish-blue.', 'You should not eat cardboard.']\n"
     ]
    }
   ],
   "source": [
    "# Tokenize by sentence\n",
    "print(sent_tokenize(example_text))\n"
   ]
  },
  {
   "cell_type": "code",
   "execution_count": 6,
   "id": "ba808570",
   "metadata": {},
   "outputs": [
    {
     "name": "stdout",
     "output_type": "stream",
     "text": [
      "['Hello', 'Mr.', 'Smith', ',', 'how', 'are', 'you', 'doing', 'today', '?', 'The', 'weather', 'is', 'great', 'and', 'Python', 'is', 'awesome', '.', 'The', 'sky', 'is', 'pinkish-blue', '.', 'You', 'should', 'not', 'eat', 'cardboard', '.']\n"
     ]
    }
   ],
   "source": [
    "# Tokenize by word\n",
    "print(word_tokenize(example_text))\n"
   ]
  },
  {
   "cell_type": "code",
   "execution_count": 7,
   "id": "933a3d92",
   "metadata": {},
   "outputs": [
    {
     "name": "stdout",
     "output_type": "stream",
     "text": [
      "Hello Mr. Smith, how are you doing today?\n",
      "The weather is great and Python is awesome.\n",
      "The sky is pinkish-blue.\n",
      "You should not eat cardboard.\n"
     ]
    }
   ],
   "source": [
    "# for better overview\n",
    "for i in sent_tokenize(example_text):\n",
    "    print(i)\n",
    "    "
   ]
  },
  {
   "cell_type": "code",
   "execution_count": 8,
   "id": "39ee569a",
   "metadata": {},
   "outputs": [
    {
     "name": "stdout",
     "output_type": "stream",
     "text": [
      "Hello\n",
      "Mr.\n",
      "Smith\n",
      ",\n",
      "how\n",
      "are\n",
      "you\n",
      "doing\n",
      "today\n",
      "?\n",
      "The\n",
      "weather\n",
      "is\n",
      "great\n",
      "and\n",
      "Python\n",
      "is\n",
      "awesome\n",
      ".\n",
      "The\n",
      "sky\n",
      "is\n",
      "pinkish-blue\n",
      ".\n",
      "You\n",
      "should\n",
      "not\n",
      "eat\n",
      "cardboard\n",
      ".\n"
     ]
    }
   ],
   "source": [
    "# for better overview\n",
    "for i in word_tokenize(example_text):\n",
    "    print(i)\n",
    "    "
   ]
  },
  {
   "cell_type": "code",
   "execution_count": null,
   "id": "bd016398",
   "metadata": {},
   "outputs": [],
   "source": []
  }
 ],
 "metadata": {
  "kernelspec": {
   "display_name": "NLP",
   "language": "python",
   "name": "nlp"
  },
  "language_info": {
   "codemirror_mode": {
    "name": "ipython",
    "version": 3
   },
   "file_extension": ".py",
   "mimetype": "text/x-python",
   "name": "python",
   "nbconvert_exporter": "python",
   "pygments_lexer": "ipython3",
   "version": "3.10.9"
  }
 },
 "nbformat": 4,
 "nbformat_minor": 5
}
