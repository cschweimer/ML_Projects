{
 "cells": [
  {
   "cell_type": "markdown",
   "id": "bdcd2a77",
   "metadata": {},
   "source": [
    "https://pythonprogramming.net/lemmatizing-nltk-tutorial/"
   ]
  },
  {
   "cell_type": "markdown",
   "id": "a7cf1f42",
   "metadata": {},
   "source": [
    "### Lemmatizing\n",
    "\n",
    "similar to stemming\n",
    "\n",
    "end result is a real word, often a synonym"
   ]
  },
  {
   "cell_type": "code",
   "execution_count": 2,
   "id": "26ff5f98",
   "metadata": {},
   "outputs": [],
   "source": [
    "from nltk.stem import WordNetLemmatizer\n"
   ]
  },
  {
   "cell_type": "code",
   "execution_count": 3,
   "id": "a8fe92e8",
   "metadata": {},
   "outputs": [],
   "source": [
    "lemmatizer = WordNetLemmatizer()"
   ]
  },
  {
   "cell_type": "code",
   "execution_count": 13,
   "id": "af49f0d1",
   "metadata": {},
   "outputs": [
    {
     "name": "stdout",
     "output_type": "stream",
     "text": [
      "good\n",
      "best\n",
      "run\n",
      "run\n"
     ]
    }
   ],
   "source": [
    "# Make it an adjective\n",
    "print(lemmatizer.lemmatize('better', pos='a'))\n",
    "print(lemmatizer.lemmatize('best', pos='a'))\n",
    "\n",
    "# Make it a noun\n",
    "print(lemmatizer.lemmatize('run', pos='n'))\n",
    "\n",
    "# Make it a verb\n",
    "print(lemmatizer.lemmatize('run', pos='v'))\n"
   ]
  },
  {
   "cell_type": "code",
   "execution_count": null,
   "id": "a1d92391",
   "metadata": {},
   "outputs": [],
   "source": []
  },
  {
   "cell_type": "code",
   "execution_count": null,
   "id": "edf96d26",
   "metadata": {},
   "outputs": [],
   "source": []
  },
  {
   "cell_type": "code",
   "execution_count": null,
   "id": "05e7f256",
   "metadata": {},
   "outputs": [],
   "source": []
  }
 ],
 "metadata": {
  "kernelspec": {
   "display_name": "NLP",
   "language": "python",
   "name": "nlp"
  },
  "language_info": {
   "codemirror_mode": {
    "name": "ipython",
    "version": 3
   },
   "file_extension": ".py",
   "mimetype": "text/x-python",
   "name": "python",
   "nbconvert_exporter": "python",
   "pygments_lexer": "ipython3",
   "version": "3.10.9"
  }
 },
 "nbformat": 4,
 "nbformat_minor": 5
}
