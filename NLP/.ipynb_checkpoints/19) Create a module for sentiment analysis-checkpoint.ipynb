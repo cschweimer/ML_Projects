{
 "cells": [
  {
   "cell_type": "markdown",
   "id": "bdcd2a77",
   "metadata": {},
   "source": [
    "https://pythonprogramming.net/sentiment-analysis-module-nltk-tutorial/"
   ]
  },
  {
   "cell_type": "markdown",
   "id": "a7cf1f42",
   "metadata": {},
   "source": [
    "### Building the module for sentiment analysis\n",
    "\n",
    "this one builds on the previous Notebooks"
   ]
  },
  {
   "cell_type": "code",
   "execution_count": 1,
   "id": "26ff5f98",
   "metadata": {},
   "outputs": [],
   "source": [
    "import nltk\n",
    "import random\n",
    "\n",
    "from nltk.classify.scikitlearn import SklearnClassifier\n",
    "import pickle\n",
    "from sklearn.naive_bayes import MultinomialNB, BernoulliNB\n",
    "from sklearn.linear_model import LogisticRegression, SGDClassifier\n",
    "from sklearn.svm import SVC, LinearSVC, NuSVC\n",
    "from nltk.classify import ClassifierI\n",
    "from statistics import mode\n",
    "from nltk.tokenize import word_tokenize\n"
   ]
  },
  {
   "cell_type": "code",
   "execution_count": 2,
   "id": "5f6f6553",
   "metadata": {},
   "outputs": [],
   "source": [
    "class VoteClassifier(ClassifierI):\n",
    "    # init method will always run in a class\n",
    "    def __init__(self, *classifiers):\n",
    "        self._classifiers = classifiers\n",
    "        \n",
    "    # classify method\n",
    "    def classify(self, features):\n",
    "        votes = []\n",
    "        for c in self._classifiers:\n",
    "            v = c.classify(features)\n",
    "            votes.append(v)\n",
    "        return mode(votes)\n",
    "    \n",
    "    def confidence(self, features):\n",
    "        votes = []\n",
    "        for c in self._classifiers:\n",
    "            v = c.classify(features)\n",
    "            votes.append(v)\n",
    "        choice_votes = votes.count(mode(votes))\n",
    "        conf = choice_votes / len(votes)\n",
    "        return conf\n",
    "    "
   ]
  },
  {
   "cell_type": "code",
   "execution_count": 3,
   "id": "a08cd8df",
   "metadata": {},
   "outputs": [],
   "source": [
    "# Load the data: positive and negative short texts\n",
    "\n",
    "short_pos = open('data/positive.txt','r').read()\n",
    "short_neg = open('data/negative.txt','r').read()\n"
   ]
  },
  {
   "cell_type": "code",
   "execution_count": 4,
   "id": "213f4d1c",
   "metadata": {},
   "outputs": [],
   "source": [
    "all_words = []\n",
    "documents = []\n"
   ]
  },
  {
   "cell_type": "code",
   "execution_count": 5,
   "id": "b5168892",
   "metadata": {},
   "outputs": [],
   "source": [
    "# for part of speech tagging: \n",
    "# j: adjective, r: adverb, v: verb\n",
    "allowed_word_types = ['J', 'R', 'V']\n",
    "allowed_word_types = ['J']\n",
    "\n",
    "# Get the reviews in the list called documents\n",
    "documents = []\n",
    "\n",
    "for p in short_pos.split('\\n'):\n",
    "    documents.append((p, 'pos'))\n",
    "    words = word_tokenize(p) # tokenize by word\n",
    "    pos = nltk.pos_tag(words) # tag part of speech\n",
    "    for w in pos:\n",
    "        if w[1][0] in allowed_word_types:\n",
    "            all_words.append(w[0].lower())\n",
    "    \n",
    "for p in short_neg.split('\\n'):\n",
    "    documents.append((p, 'neg'))\n",
    "    words = word_tokenize(p)\n",
    "    pos = nltk.pos_tag(words)\n",
    "    for w in pos:\n",
    "        if w[1][0] in allowed_word_types:\n",
    "            all_words.append(w[0].lower())\n",
    "    "
   ]
  },
  {
   "cell_type": "code",
   "execution_count": 6,
   "id": "6f27f88f",
   "metadata": {},
   "outputs": [],
   "source": [
    "save_documents = open('pickled_algorithms/documents.pickle','wb')\n",
    "pickle.dump(documents, save_documents)\n",
    "save_documents.close()\n"
   ]
  },
  {
   "cell_type": "code",
   "execution_count": 7,
   "id": "dc245e30",
   "metadata": {},
   "outputs": [],
   "source": [
    "# frequency distribution of words\n",
    "all_words = nltk.FreqDist(all_words)\n",
    "\n",
    "# limit number of words (only 5,000 most common words)\n",
    "word_features = list(all_words.keys())[:5000]\n"
   ]
  },
  {
   "cell_type": "code",
   "execution_count": 8,
   "id": "62c71518",
   "metadata": {},
   "outputs": [],
   "source": [
    "save_word_features = open('pickled_algorithms/word_features.pickle','wb')\n",
    "pickle.dump(word_features, save_word_features)\n",
    "save_word_features.close()\n"
   ]
  },
  {
   "cell_type": "code",
   "execution_count": 9,
   "id": "148dfbba",
   "metadata": {},
   "outputs": [],
   "source": [
    "# Find the most common words (if they are present in a movie review)\n",
    "def find_features(document):\n",
    "    words = word_tokenize(document)\n",
    "    features = {}\n",
    "    for w in word_features:\n",
    "        features[w] = (w in words)\n",
    "        \n",
    "    return features\n"
   ]
  },
  {
   "cell_type": "code",
   "execution_count": 10,
   "id": "e5b7606a",
   "metadata": {},
   "outputs": [
    {
     "data": {
      "text/plain": [
       "10662"
      ]
     },
     "execution_count": 10,
     "metadata": {},
     "output_type": "execute_result"
    }
   ],
   "source": [
    "featuresets = [(find_features(rev), category) for (rev,category) in documents]\n",
    "\n",
    "# shuffle the data\n",
    "random.shuffle(featuresets)\n",
    "\n",
    "# number of reviews\n",
    "len(featuresets)\n"
   ]
  },
  {
   "cell_type": "code",
   "execution_count": null,
   "id": "183fac5d",
   "metadata": {},
   "outputs": [],
   "source": []
  },
  {
   "cell_type": "markdown",
   "id": "53b9f5bf",
   "metadata": {},
   "source": [
    "#### Test different classifiers"
   ]
  },
  {
   "cell_type": "code",
   "execution_count": 11,
   "id": "8b60fe3b",
   "metadata": {},
   "outputs": [],
   "source": [
    "# Train and test sets\n",
    "training_set = featuresets[:10000]\n",
    "testing_set = featuresets[10000:]\n"
   ]
  },
  {
   "cell_type": "code",
   "execution_count": 12,
   "id": "95d1468a",
   "metadata": {},
   "outputs": [
    {
     "name": "stdout",
     "output_type": "stream",
     "text": [
      "Original NB Classifier accuracy: 0.729607250755287\n"
     ]
    }
   ],
   "source": [
    "# Naive Bayes Classifier\n",
    "classifier = nltk.NaiveBayesClassifier.train(training_set)\n",
    "\n",
    "# Test the classifier\n",
    "print('Original NB Classifier accuracy:', nltk.classify.accuracy(classifier, testing_set))\n"
   ]
  },
  {
   "cell_type": "code",
   "execution_count": 13,
   "id": "07ae0d2b",
   "metadata": {},
   "outputs": [],
   "source": [
    "# Save the classifier with pickle\n",
    "save_classifier = open('pickled_algorithms/naivebayes.pickle', 'wb')\n",
    "pickle.dump(classifier, save_classifier)\n",
    "save_classifier.close()\n"
   ]
  },
  {
   "cell_type": "code",
   "execution_count": 14,
   "id": "31da1a17",
   "metadata": {},
   "outputs": [
    {
     "name": "stdout",
     "output_type": "stream",
     "text": [
      "Most Informative Features\n",
      "                  boring = True              neg : pos    =     31.1 : 1.0\n",
      "              engrossing = True              pos : neg    =     19.0 : 1.0\n",
      "                 generic = True              neg : pos    =     15.7 : 1.0\n",
      "                    flat = True              neg : pos    =     15.0 : 1.0\n",
      "                mediocre = True              neg : pos    =     15.0 : 1.0\n",
      "                 routine = True              neg : pos    =     15.0 : 1.0\n",
      "               inventive = True              pos : neg    =     15.0 : 1.0\n",
      "               wonderful = True              pos : neg    =     13.0 : 1.0\n",
      "                    dull = True              neg : pos    =     12.7 : 1.0\n",
      "                haunting = True              pos : neg    =     11.6 : 1.0\n"
     ]
    }
   ],
   "source": [
    "classifier.show_most_informative_features(10)\n"
   ]
  },
  {
   "cell_type": "code",
   "execution_count": 15,
   "id": "81bb2385",
   "metadata": {},
   "outputs": [
    {
     "name": "stdout",
     "output_type": "stream",
     "text": [
      "MNB_classifier accuracy: 0.7099697885196374\n"
     ]
    }
   ],
   "source": [
    "MNB_classifier = SklearnClassifier(MultinomialNB())\n",
    "MNB_classifier.train(training_set)\n",
    "\n",
    "print('MNB_classifier accuracy:', nltk.classify.accuracy(MNB_classifier, testing_set))\n"
   ]
  },
  {
   "cell_type": "code",
   "execution_count": 16,
   "id": "068a4bb5",
   "metadata": {},
   "outputs": [],
   "source": [
    "# Save the classifier with pickle\n",
    "save_classifier = open('pickled_algorithms/MNB_classifier.pickle', 'wb')\n",
    "pickle.dump(classifier, save_classifier)\n",
    "save_classifier.close()\n"
   ]
  },
  {
   "cell_type": "code",
   "execution_count": 17,
   "id": "33132a06",
   "metadata": {},
   "outputs": [
    {
     "name": "stdout",
     "output_type": "stream",
     "text": [
      "['pos']\n",
      "pos\n"
     ]
    }
   ],
   "source": [
    "# Classify one test example\n",
    "print(MNB_classifier.classify_many(testing_set[0][0]))\n",
    "print(MNB_classifier.classify(testing_set[0][0]))\n"
   ]
  },
  {
   "cell_type": "code",
   "execution_count": 18,
   "id": "d5deaa42",
   "metadata": {},
   "outputs": [
    {
     "name": "stdout",
     "output_type": "stream",
     "text": [
      "BernoulliNB_classifier accuracy: 0.7280966767371602\n"
     ]
    }
   ],
   "source": [
    "BernoulliNB_classifier = SklearnClassifier(BernoulliNB())\n",
    "BernoulliNB_classifier.train(training_set)\n",
    "\n",
    "print('BernoulliNB_classifier accuracy:', nltk.classify.accuracy(BernoulliNB_classifier, testing_set))\n"
   ]
  },
  {
   "cell_type": "code",
   "execution_count": 19,
   "id": "1df78cb8",
   "metadata": {},
   "outputs": [],
   "source": [
    "# Save the classifier with pickle\n",
    "save_classifier = open('pickled_algorithms/BernoulliNB_classifier.pickle', 'wb')\n",
    "pickle.dump(classifier, save_classifier)\n",
    "save_classifier.close()\n"
   ]
  },
  {
   "cell_type": "code",
   "execution_count": 20,
   "id": "ad8b0515",
   "metadata": {},
   "outputs": [
    {
     "name": "stdout",
     "output_type": "stream",
     "text": [
      "LogisticRegression_classifier accuracy: 0.7145015105740181\n"
     ]
    }
   ],
   "source": [
    "LogisticRegression_classifier = SklearnClassifier(LogisticRegression())\n",
    "LogisticRegression_classifier.train(training_set)\n",
    "\n",
    "print('LogisticRegression_classifier accuracy:', (nltk.classify.accuracy(LogisticRegression_classifier, testing_set)))\n"
   ]
  },
  {
   "cell_type": "code",
   "execution_count": 21,
   "id": "aa574f99",
   "metadata": {},
   "outputs": [],
   "source": [
    "# Save the classifier with pickle\n",
    "save_classifier = open('pickled_algorithms/LogisticRegression_classifier.pickle', 'wb')\n",
    "pickle.dump(classifier, save_classifier)\n",
    "save_classifier.close()\n"
   ]
  },
  {
   "cell_type": "code",
   "execution_count": 22,
   "id": "3bece158",
   "metadata": {},
   "outputs": [
    {
     "name": "stdout",
     "output_type": "stream",
     "text": [
      "SGDClassifier_classifier accuracy: 0.7069486404833837\n"
     ]
    }
   ],
   "source": [
    "SGDClassifier_classifier = SklearnClassifier(SGDClassifier())\n",
    "SGDClassifier_classifier.train(training_set)\n",
    "\n",
    "print('SGDClassifier_classifier accuracy:', (nltk.classify.accuracy(SGDClassifier_classifier, testing_set)))\n"
   ]
  },
  {
   "cell_type": "code",
   "execution_count": 23,
   "id": "92bd9e57",
   "metadata": {},
   "outputs": [],
   "source": [
    "# Save the classifier with pickle\n",
    "save_classifier = open('pickled_algorithms/SGD_classifier.pickle', 'wb')\n",
    "pickle.dump(classifier, save_classifier)\n",
    "save_classifier.close()\n"
   ]
  },
  {
   "cell_type": "code",
   "execution_count": 24,
   "id": "571864e2",
   "metadata": {},
   "outputs": [
    {
     "name": "stdout",
     "output_type": "stream",
     "text": [
      "SVC_classifier accuracy: 0.7145015105740181\n"
     ]
    }
   ],
   "source": [
    "SVC_classifier = SklearnClassifier(SVC())\n",
    "SVC_classifier.train(training_set)\n",
    "\n",
    "print('SVC_classifier accuracy:', (nltk.classify.accuracy(SVC_classifier, testing_set)))\n"
   ]
  },
  {
   "cell_type": "code",
   "execution_count": 25,
   "id": "6943b885",
   "metadata": {},
   "outputs": [],
   "source": [
    "# Save the classifier with pickle\n",
    "save_classifier = open('pickled_algorithms/SVCNB_classifier.pickle', 'wb')\n",
    "pickle.dump(classifier, save_classifier)\n",
    "save_classifier.close()\n"
   ]
  },
  {
   "cell_type": "code",
   "execution_count": 26,
   "id": "7d889da2",
   "metadata": {},
   "outputs": [
    {
     "name": "stdout",
     "output_type": "stream",
     "text": [
      "LinearSVC_classifier accuracy: 0.7039274924471299\n"
     ]
    }
   ],
   "source": [
    "LinearSVC_classifier = SklearnClassifier(LinearSVC())\n",
    "LinearSVC_classifier.train(training_set)\n",
    "\n",
    "print('LinearSVC_classifier accuracy:', (nltk.classify.accuracy(LinearSVC_classifier, testing_set)))\n"
   ]
  },
  {
   "cell_type": "code",
   "execution_count": 27,
   "id": "f21d928a",
   "metadata": {},
   "outputs": [],
   "source": [
    "# Save the classifier with pickle\n",
    "save_classifier = open('pickled_algorithms/LinearSVC_classifier.pickle', 'wb')\n",
    "pickle.dump(classifier, save_classifier)\n",
    "save_classifier.close()\n"
   ]
  },
  {
   "cell_type": "code",
   "execution_count": 28,
   "id": "c030cf24",
   "metadata": {},
   "outputs": [
    {
     "name": "stdout",
     "output_type": "stream",
     "text": [
      "NuSVC_classifier accuracy: 0.7114803625377644\n"
     ]
    }
   ],
   "source": [
    "NuSVC_classifier = SklearnClassifier(NuSVC())\n",
    "NuSVC_classifier.train(training_set)\n",
    "\n",
    "print('NuSVC_classifier accuracy:', (nltk.classify.accuracy(NuSVC_classifier, testing_set)))\n"
   ]
  },
  {
   "cell_type": "code",
   "execution_count": 29,
   "id": "9eabe739",
   "metadata": {},
   "outputs": [],
   "source": [
    "# Save the classifier with pickle\n",
    "save_classifier = open('pickled_algorithms/NuSVC_classifier.pickle', 'wb')\n",
    "pickle.dump(classifier, save_classifier)\n",
    "save_classifier.close()\n"
   ]
  },
  {
   "cell_type": "code",
   "execution_count": null,
   "id": "294b7053",
   "metadata": {},
   "outputs": [],
   "source": []
  },
  {
   "cell_type": "markdown",
   "id": "3b20c18c",
   "metadata": {},
   "source": [
    "#### Combine algorithms for a voting system\n",
    "\n",
    "https://pythonprogramming.net/combine-classifier-algorithms-nltk-tutorial/\n",
    "\n",
    "it is best to have an odd number of classifiers, e.g., 4/7 vs. 3/7"
   ]
  },
  {
   "cell_type": "code",
   "execution_count": 30,
   "id": "d4c39774",
   "metadata": {},
   "outputs": [
    {
     "name": "stdout",
     "output_type": "stream",
     "text": [
      "voted_classifier accuracy: 0.7175226586102719\n"
     ]
    }
   ],
   "source": [
    "voted_classifier = VoteClassifier(classifier,\n",
    "                                  NuSVC_classifier,\n",
    "                                  LinearSVC_classifier,\n",
    "                                  SGDClassifier_classifier,\n",
    "                                  MNB_classifier,\n",
    "                                  BernoulliNB_classifier,\n",
    "                                  LogisticRegression_classifier)\n",
    "\n",
    "print('voted_classifier accuracy:', (nltk.classify.accuracy(voted_classifier, testing_set)))\n"
   ]
  },
  {
   "cell_type": "code",
   "execution_count": 31,
   "id": "d4cbe463",
   "metadata": {},
   "outputs": [],
   "source": [
    "def sentiment(text):\n",
    "    feats = find_features(text)\n",
    "    \n",
    "    return voted_classifier.classify(feats)\n"
   ]
  },
  {
   "cell_type": "code",
   "execution_count": null,
   "id": "2cbe9317",
   "metadata": {},
   "outputs": [],
   "source": []
  },
  {
   "cell_type": "code",
   "execution_count": null,
   "id": "d2c0d6db",
   "metadata": {},
   "outputs": [],
   "source": []
  },
  {
   "cell_type": "code",
   "execution_count": null,
   "id": "6c388f00",
   "metadata": {},
   "outputs": [],
   "source": []
  },
  {
   "cell_type": "code",
   "execution_count": null,
   "id": "ab123372",
   "metadata": {},
   "outputs": [],
   "source": []
  },
  {
   "cell_type": "code",
   "execution_count": null,
   "id": "9a78d755",
   "metadata": {},
   "outputs": [],
   "source": [
    "# Load the pickled classifiers\n",
    "open_file = open(\"pickled_algorithms/naivebayes.pickle\", \"rb\")\n",
    "classifier = pickle.load(open_file)\n",
    "open_file.close()\n",
    "\n",
    "open_file = open(\"pickled_algorithms/MNB_classifier.pickle\", \"rb\")\n",
    "MNB_classifier = pickle.load(open_file)\n",
    "open_file.close()\n",
    "\n",
    "open_file = open(\"pickled_algorithms/BernoulliNB_classifier.pickle\", \"rb\")\n",
    "BernoulliNB_classifier = pickle.load(open_file)\n",
    "open_file.close()\n",
    "\n",
    "open_file = open(\"pickled_algorithms/LogisticRegression_classifier.pickle\", \"rb\")\n",
    "LogisticRegression_classifier = pickle.load(open_file)\n",
    "open_file.close()\n",
    "\n",
    "open_file = open(\"pickled_algorithms/LinearSVC_classifier.pickle\", \"rb\")\n",
    "LinearSVC_classifier = pickle.load(open_file)\n",
    "open_file.close()\n",
    "\n",
    "open_file = open(\"pickled_algorithms/SGD_classifier.pickle\", \"rb\")\n",
    "SGDC_classifier = pickle.load(open_file)\n",
    "open_file.close()\n"
   ]
  },
  {
   "cell_type": "code",
   "execution_count": null,
   "id": "b54e0f51",
   "metadata": {},
   "outputs": [],
   "source": []
  }
 ],
 "metadata": {
  "kernelspec": {
   "display_name": "NLP",
   "language": "python",
   "name": "nlp"
  },
  "language_info": {
   "codemirror_mode": {
    "name": "ipython",
    "version": 3
   },
   "file_extension": ".py",
   "mimetype": "text/x-python",
   "name": "python",
   "nbconvert_exporter": "python",
   "pygments_lexer": "ipython3",
   "version": "3.10.9"
  }
 },
 "nbformat": 4,
 "nbformat_minor": 5
}
