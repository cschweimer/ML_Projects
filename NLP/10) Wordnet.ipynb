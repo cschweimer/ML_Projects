{
 "cells": [
  {
   "cell_type": "markdown",
   "id": "bdcd2a77",
   "metadata": {},
   "source": [
    "https://pythonprogramming.net/wordnet-nltk-tutorial/?completed=/nltk-corpus-corpora-tutorial/"
   ]
  },
  {
   "cell_type": "markdown",
   "id": "a7cf1f42",
   "metadata": {},
   "source": [
    "### Wordnet\n",
    "\n",
    "lexical database for the English language\n",
    "\n",
    "one of the largest corpora in NLTK"
   ]
  },
  {
   "cell_type": "code",
   "execution_count": 1,
   "id": "26ff5f98",
   "metadata": {},
   "outputs": [],
   "source": [
    "from nltk.corpus import wordnet"
   ]
  },
  {
   "cell_type": "code",
   "execution_count": 10,
   "id": "0d8a4805",
   "metadata": {},
   "outputs": [
    {
     "name": "stdout",
     "output_type": "stream",
     "text": [
      "Synset('plan.n.01')\n",
      "plan\n"
     ]
    }
   ],
   "source": [
    "# Synsets for the word 'program'\n",
    "syns = wordnet.synsets('program')\n",
    "print(syns[0])\n",
    "\n",
    "# just the word\n",
    "print(syns[0].lemmas()[0].name())\n"
   ]
  },
  {
   "cell_type": "code",
   "execution_count": 14,
   "id": "99c2cb12",
   "metadata": {},
   "outputs": [
    {
     "name": "stdout",
     "output_type": "stream",
     "text": [
      "a series of steps to be carried out or goals to be accomplished\n",
      "['they drew up a six-step plan', 'they discussed plans for a new bond issue']\n"
     ]
    }
   ],
   "source": [
    "# Definition of the word\n",
    "print(syns[0].definition())\n",
    "\n",
    "# Examples (put in a sentence)\n",
    "print(syns[0].examples())\n"
   ]
  },
  {
   "cell_type": "code",
   "execution_count": 20,
   "id": "88fbcd6e",
   "metadata": {},
   "outputs": [
    {
     "name": "stdout",
     "output_type": "stream",
     "text": [
      "['good', 'good', 'goodness', 'good', 'goodness', 'commodity', 'trade_good', 'good', 'good', 'full', 'good', 'good', 'estimable', 'good', 'honorable', 'respectable', 'beneficial', 'good', 'good', 'good', 'just', 'upright', 'adept', 'expert', 'good', 'practiced', 'proficient', 'skillful', 'skilful', 'good', 'dear', 'good', 'near', 'dependable', 'good', 'safe', 'secure', 'good', 'right', 'ripe', 'good', 'well', 'effective', 'good', 'in_effect', 'in_force', 'good', 'good', 'serious', 'good', 'sound', 'good', 'salutary', 'good', 'honest', 'good', 'undecomposed', 'unspoiled', 'unspoilt', 'good', 'well', 'good', 'thoroughly', 'soundly', 'good']\n",
      "['evilness', 'badness', 'bad', 'evil']\n"
     ]
    }
   ],
   "source": [
    "# Synonyms and antonyms for every meaning of good\n",
    "synonyms = []\n",
    "antonyms = []\n",
    "\n",
    "for syn in wordnet.synsets('good'):\n",
    "    for l in syn.lemmas():\n",
    "        synonyms.append(l.name())\n",
    "    if l.antonyms():\n",
    "        antonyms.append(l.antonyms()[0].name())\n",
    "        \n",
    "print(list(synonyms))\n",
    "print(list(antonyms))\n"
   ]
  },
  {
   "cell_type": "code",
   "execution_count": null,
   "id": "1ab7ed1a",
   "metadata": {},
   "outputs": [],
   "source": []
  },
  {
   "cell_type": "code",
   "execution_count": 29,
   "id": "6fcfabed",
   "metadata": {},
   "outputs": [
    {
     "name": "stdout",
     "output_type": "stream",
     "text": [
      "0.9090909090909091\n"
     ]
    }
   ],
   "source": [
    "### Semantic similarity\n",
    "\n",
    "# Get two words\n",
    "w1 = wordnet.synset('ship.n.01')\n",
    "w2 = wordnet.synset('boat.n.01')\n",
    "\n",
    "# Similarity comparison with method by Wu and Palmer\n",
    "print(w1.wup_similarity(w2))\n"
   ]
  },
  {
   "cell_type": "code",
   "execution_count": 31,
   "id": "db765bbf",
   "metadata": {},
   "outputs": [
    {
     "name": "stdout",
     "output_type": "stream",
     "text": [
      "0.32\n"
     ]
    }
   ],
   "source": [
    "### Semantic similarity\n",
    "\n",
    "# Get two words\n",
    "w1 = wordnet.synset('ship.n.01')\n",
    "w2 = wordnet.synset('cat.n.01')\n",
    "\n",
    "# Similarity comparison with method by Wu and Palmer\n",
    "print(w1.wup_similarity(w2))\n"
   ]
  },
  {
   "cell_type": "code",
   "execution_count": null,
   "id": "44bb6540",
   "metadata": {},
   "outputs": [],
   "source": []
  },
  {
   "cell_type": "code",
   "execution_count": null,
   "id": "6b1c0b84",
   "metadata": {},
   "outputs": [],
   "source": []
  },
  {
   "cell_type": "code",
   "execution_count": null,
   "id": "bd547d86",
   "metadata": {},
   "outputs": [],
   "source": []
  }
 ],
 "metadata": {
  "kernelspec": {
   "display_name": "NLP",
   "language": "python",
   "name": "nlp"
  },
  "language_info": {
   "codemirror_mode": {
    "name": "ipython",
    "version": 3
   },
   "file_extension": ".py",
   "mimetype": "text/x-python",
   "name": "python",
   "nbconvert_exporter": "python",
   "pygments_lexer": "ipython3",
   "version": "3.10.9"
  }
 },
 "nbformat": 4,
 "nbformat_minor": 5
}
