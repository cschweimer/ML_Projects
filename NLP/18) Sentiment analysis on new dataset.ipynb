{
 "cells": [
  {
   "cell_type": "markdown",
   "id": "bdcd2a77",
   "metadata": {},
   "source": [
    "https://pythonprogramming.net/new-data-set-training-nltk-tutorial/"
   ]
  },
  {
   "cell_type": "markdown",
   "id": "a7cf1f42",
   "metadata": {},
   "source": [
    "### Sentiment analysis on dataset with shorter texts\n",
    "\n",
    "this one builds on the previous Notebooks"
   ]
  },
  {
   "cell_type": "code",
   "execution_count": 2,
   "id": "26ff5f98",
   "metadata": {},
   "outputs": [],
   "source": [
    "import nltk\n",
    "import random\n",
    "from nltk.corpus import movie_reviews\n",
    "from nltk.classify.scikitlearn import SklearnClassifier\n",
    "import pickle\n",
    "\n",
    "from sklearn.naive_bayes import MultinomialNB, GaussianNB, BernoulliNB\n",
    "from sklearn.linear_model import LogisticRegression, SGDClassifier\n",
    "from sklearn.svm import SVC, LinearSVC, NuSVC\n",
    "\n",
    "from nltk.classify import ClassifierI\n",
    "from statistics import mode\n",
    "\n",
    "from nltk.tokenize import word_tokenize\n"
   ]
  },
  {
   "cell_type": "code",
   "execution_count": 3,
   "id": "5f6f6553",
   "metadata": {},
   "outputs": [],
   "source": [
    "class VoteClassifier(ClassifierI):\n",
    "    # init method will always run in a class\n",
    "    def __init__(self, *classifiers):\n",
    "        self._classifiers = classifiers\n",
    "        \n",
    "    # classify method\n",
    "    def classify(self, features):\n",
    "        votes = []\n",
    "        for c in self._classifiers:\n",
    "            v = c.classify(features)\n",
    "            votes.append(v)\n",
    "        return mode(votes)\n",
    "    \n",
    "    def confidence(self, features):\n",
    "        votes = []\n",
    "        for c in self._classifiers:\n",
    "            v = c.classify(features)\n",
    "            votes.append(v)\n",
    "        choice_votes = votes.count(mode(votes))\n",
    "        conf = choice_votes / len(votes)\n",
    "        return conf\n",
    "    "
   ]
  },
  {
   "cell_type": "code",
   "execution_count": 4,
   "id": "b43fe3ee",
   "metadata": {},
   "outputs": [],
   "source": [
    "# Load the data: positive and negative short texts\n",
    "\n",
    "short_pos = open('data/positive.txt','r').read()\n",
    "short_neg = open('data/negative.txt','r').read()\n"
   ]
  },
  {
   "cell_type": "code",
   "execution_count": 5,
   "id": "6289fd28",
   "metadata": {},
   "outputs": [],
   "source": [
    "# Get the reviews in the list called documents\n",
    "documents = []\n",
    "\n",
    "for r in short_pos.split('\\n'):\n",
    "    documents.append((r, 'pos'))\n",
    "    \n",
    "for r in short_neg.split('\\n'):\n",
    "    documents.append((r, 'neg'))\n",
    "    "
   ]
  },
  {
   "cell_type": "code",
   "execution_count": 6,
   "id": "2569697c",
   "metadata": {},
   "outputs": [],
   "source": [
    "# Get the words\n",
    "all_words = []\n",
    "\n",
    "short_pos_words = word_tokenize(short_pos)\n",
    "short_neg_words = word_tokenize(short_neg)\n",
    "\n",
    "for w in short_pos_words:\n",
    "    all_words.append(w.lower())\n",
    "    \n",
    "for w in short_neg_words:\n",
    "    all_words.append(w.lower())\n"
   ]
  },
  {
   "cell_type": "code",
   "execution_count": 7,
   "id": "52531fcf",
   "metadata": {},
   "outputs": [],
   "source": [
    "# frequency distribution of words\n",
    "all_words = nltk.FreqDist(all_words)\n"
   ]
  },
  {
   "cell_type": "code",
   "execution_count": null,
   "id": "881ce1ce",
   "metadata": {},
   "outputs": [],
   "source": []
  },
  {
   "cell_type": "markdown",
   "id": "de6f47f4",
   "metadata": {},
   "source": [
    "#### Convert words into features"
   ]
  },
  {
   "cell_type": "code",
   "execution_count": 8,
   "id": "d1391a81",
   "metadata": {},
   "outputs": [],
   "source": [
    "# limit number of words (only 5,000 most common words)\n",
    "word_features = list(all_words.keys())[:5000]\n"
   ]
  },
  {
   "cell_type": "code",
   "execution_count": 9,
   "id": "d9365d5e",
   "metadata": {},
   "outputs": [],
   "source": [
    "# Find the most common words (if they are present in a movie review)\n",
    "def find_features(document):\n",
    "    words = word_tokenize(document)\n",
    "    features = {}\n",
    "    for w in word_features:\n",
    "        features[w] = (w in words)\n",
    "        \n",
    "    return features\n"
   ]
  },
  {
   "cell_type": "code",
   "execution_count": 10,
   "id": "985cfeb0",
   "metadata": {},
   "outputs": [
    {
     "data": {
      "text/plain": [
       "10662"
      ]
     },
     "execution_count": 10,
     "metadata": {},
     "output_type": "execute_result"
    }
   ],
   "source": [
    "featuresets = [(find_features(rev), category) for (rev,category) in documents]\n",
    "\n",
    "# shuffle the data\n",
    "random.shuffle(featuresets)\n",
    "\n",
    "# number of reviews\n",
    "len(featuresets)\n"
   ]
  },
  {
   "cell_type": "code",
   "execution_count": null,
   "id": "644b9dbe",
   "metadata": {},
   "outputs": [],
   "source": []
  },
  {
   "cell_type": "markdown",
   "id": "53b9f5bf",
   "metadata": {},
   "source": [
    "#### Test different classifiers"
   ]
  },
  {
   "cell_type": "code",
   "execution_count": 11,
   "id": "8b60fe3b",
   "metadata": {},
   "outputs": [],
   "source": [
    "# Train and test sets\n",
    "training_set = featuresets[:10000]\n",
    "testing_set = featuresets[10000:]\n"
   ]
  },
  {
   "cell_type": "code",
   "execution_count": 12,
   "id": "95d1468a",
   "metadata": {},
   "outputs": [
    {
     "name": "stdout",
     "output_type": "stream",
     "text": [
      "Original NB Classifier accuracy: 0.7522658610271903\n"
     ]
    }
   ],
   "source": [
    "# Naive Bayes Classifier\n",
    "classifier = nltk.NaiveBayesClassifier.train(training_set)\n",
    "\n",
    "# Test the classifier\n",
    "print('Original NB Classifier accuracy:', nltk.classify.accuracy(classifier, testing_set))\n"
   ]
  },
  {
   "cell_type": "code",
   "execution_count": 13,
   "id": "07ae0d2b",
   "metadata": {},
   "outputs": [],
   "source": [
    "# Save the classifier with pickle\n",
    "save_classifier = open('pickled_algorithms/naivebayes.pickle', 'wb')\n",
    "pickle.dump(classifier, save_classifier)\n",
    "save_classifier.close()\n"
   ]
  },
  {
   "cell_type": "code",
   "execution_count": 14,
   "id": "31da1a17",
   "metadata": {},
   "outputs": [
    {
     "name": "stdout",
     "output_type": "stream",
     "text": [
      "Most Informative Features\n",
      "                      `` = True              pos : neg    =     91.6 : 1.0\n",
      "              engrossing = True              pos : neg    =     19.5 : 1.0\n",
      "               inventive = True              pos : neg    =     14.9 : 1.0\n",
      "               wonderful = True              pos : neg    =     12.9 : 1.0\n",
      "              refreshing = True              pos : neg    =     12.9 : 1.0\n",
      "                    warm = True              pos : neg    =     12.5 : 1.0\n",
      "            refreshingly = True              pos : neg    =     11.6 : 1.0\n",
      "                  stupid = True              neg : pos    =     11.5 : 1.0\n",
      "                  beauty = True              pos : neg    =     11.3 : 1.0\n",
      "             mesmerizing = True              pos : neg    =     10.9 : 1.0\n"
     ]
    }
   ],
   "source": [
    "classifier.show_most_informative_features(10)\n"
   ]
  },
  {
   "cell_type": "code",
   "execution_count": 15,
   "id": "81bb2385",
   "metadata": {},
   "outputs": [
    {
     "name": "stdout",
     "output_type": "stream",
     "text": [
      "MNB_classifier accuracy: 0.7537764350453172\n"
     ]
    }
   ],
   "source": [
    "MNB_classifier = SklearnClassifier(MultinomialNB())\n",
    "MNB_classifier.train(training_set)\n",
    "\n",
    "print('MNB_classifier accuracy:', nltk.classify.accuracy(MNB_classifier, testing_set))\n"
   ]
  },
  {
   "cell_type": "code",
   "execution_count": 16,
   "id": "068a4bb5",
   "metadata": {},
   "outputs": [],
   "source": [
    "# Save the classifier with pickle\n",
    "save_classifier = open('pickled_algorithms/MNB_classifier.pickle', 'wb')\n",
    "pickle.dump(classifier, save_classifier)\n",
    "save_classifier.close()\n"
   ]
  },
  {
   "cell_type": "code",
   "execution_count": 17,
   "id": "33132a06",
   "metadata": {},
   "outputs": [
    {
     "name": "stdout",
     "output_type": "stream",
     "text": [
      "['neg']\n",
      "neg\n"
     ]
    }
   ],
   "source": [
    "# Classify one test example\n",
    "print(MNB_classifier.classify_many(testing_set[0][0]))\n",
    "print(MNB_classifier.classify(testing_set[0][0]))\n"
   ]
  },
  {
   "cell_type": "code",
   "execution_count": 18,
   "id": "d5deaa42",
   "metadata": {},
   "outputs": [
    {
     "name": "stdout",
     "output_type": "stream",
     "text": [
      "BernoulliNB_classifier accuracy: 0.7583081570996979\n"
     ]
    }
   ],
   "source": [
    "BernoulliNB_classifier = SklearnClassifier(BernoulliNB())\n",
    "BernoulliNB_classifier.train(training_set)\n",
    "\n",
    "print('BernoulliNB_classifier accuracy:', nltk.classify.accuracy(BernoulliNB_classifier, testing_set))\n"
   ]
  },
  {
   "cell_type": "code",
   "execution_count": 19,
   "id": "1df78cb8",
   "metadata": {},
   "outputs": [],
   "source": [
    "# Save the classifier with pickle\n",
    "save_classifier = open('pickled_algorithms/BernoulliNB_classifier.pickle', 'wb')\n",
    "pickle.dump(classifier, save_classifier)\n",
    "save_classifier.close()\n"
   ]
  },
  {
   "cell_type": "code",
   "execution_count": 20,
   "id": "ad8b0515",
   "metadata": {},
   "outputs": [
    {
     "name": "stderr",
     "output_type": "stream",
     "text": [
      "C:\\Users\\Christoph\\anaconda3\\envs\\NLP\\lib\\site-packages\\sklearn\\linear_model\\_logistic.py:458: ConvergenceWarning: lbfgs failed to converge (status=1):\n",
      "STOP: TOTAL NO. of ITERATIONS REACHED LIMIT.\n",
      "\n",
      "Increase the number of iterations (max_iter) or scale the data as shown in:\n",
      "    https://scikit-learn.org/stable/modules/preprocessing.html\n",
      "Please also refer to the documentation for alternative solver options:\n",
      "    https://scikit-learn.org/stable/modules/linear_model.html#logistic-regression\n",
      "  n_iter_i = _check_optimize_result(\n"
     ]
    },
    {
     "name": "stdout",
     "output_type": "stream",
     "text": [
      "LogisticRegression_classifier accuracy: 0.7809667673716012\n"
     ]
    }
   ],
   "source": [
    "LogisticRegression_classifier = SklearnClassifier(LogisticRegression())\n",
    "LogisticRegression_classifier.train(training_set)\n",
    "\n",
    "print('LogisticRegression_classifier accuracy:', (nltk.classify.accuracy(LogisticRegression_classifier, testing_set)))\n"
   ]
  },
  {
   "cell_type": "code",
   "execution_count": 21,
   "id": "aa574f99",
   "metadata": {},
   "outputs": [],
   "source": [
    "# Save the classifier with pickle\n",
    "save_classifier = open('pickled_algorithms/LogisticRegression_classifier.pickle', 'wb')\n",
    "pickle.dump(classifier, save_classifier)\n",
    "save_classifier.close()\n"
   ]
  },
  {
   "cell_type": "code",
   "execution_count": 22,
   "id": "3bece158",
   "metadata": {},
   "outputs": [
    {
     "name": "stdout",
     "output_type": "stream",
     "text": [
      "SGDClassifier_classifier accuracy: 0.7643504531722054\n"
     ]
    }
   ],
   "source": [
    "SGDClassifier_classifier = SklearnClassifier(SGDClassifier())\n",
    "SGDClassifier_classifier.train(training_set)\n",
    "\n",
    "print('SGDClassifier_classifier accuracy:', (nltk.classify.accuracy(SGDClassifier_classifier, testing_set)))\n"
   ]
  },
  {
   "cell_type": "code",
   "execution_count": 23,
   "id": "92bd9e57",
   "metadata": {},
   "outputs": [],
   "source": [
    "# Save the classifier with pickle\n",
    "save_classifier = open('pickled_algorithms/SGD_classifier.pickle', 'wb')\n",
    "pickle.dump(classifier, save_classifier)\n",
    "save_classifier.close()\n"
   ]
  },
  {
   "cell_type": "code",
   "execution_count": 24,
   "id": "571864e2",
   "metadata": {},
   "outputs": [
    {
     "name": "stdout",
     "output_type": "stream",
     "text": [
      "SVC_classifier accuracy: 0.770392749244713\n"
     ]
    }
   ],
   "source": [
    "SVC_classifier = SklearnClassifier(SVC())\n",
    "SVC_classifier.train(training_set)\n",
    "\n",
    "print('SVC_classifier accuracy:', (nltk.classify.accuracy(SVC_classifier, testing_set)))\n"
   ]
  },
  {
   "cell_type": "code",
   "execution_count": 25,
   "id": "6943b885",
   "metadata": {},
   "outputs": [],
   "source": [
    "# Save the classifier with pickle\n",
    "save_classifier = open('pickled_algorithms/SVCNB_classifier.pickle', 'wb')\n",
    "pickle.dump(classifier, save_classifier)\n",
    "save_classifier.close()\n"
   ]
  },
  {
   "cell_type": "code",
   "execution_count": 26,
   "id": "7d889da2",
   "metadata": {},
   "outputs": [
    {
     "name": "stdout",
     "output_type": "stream",
     "text": [
      "LinearSVC_classifier accuracy: 0.7447129909365559\n"
     ]
    }
   ],
   "source": [
    "LinearSVC_classifier = SklearnClassifier(LinearSVC())\n",
    "LinearSVC_classifier.train(training_set)\n",
    "\n",
    "print('LinearSVC_classifier accuracy:', (nltk.classify.accuracy(LinearSVC_classifier, testing_set)))\n"
   ]
  },
  {
   "cell_type": "code",
   "execution_count": 27,
   "id": "f21d928a",
   "metadata": {},
   "outputs": [],
   "source": [
    "# Save the classifier with pickle\n",
    "save_classifier = open('pickled_algorithms/LinearSVC_classifier.pickle', 'wb')\n",
    "pickle.dump(classifier, save_classifier)\n",
    "save_classifier.close()\n"
   ]
  },
  {
   "cell_type": "code",
   "execution_count": 28,
   "id": "c030cf24",
   "metadata": {},
   "outputs": [
    {
     "name": "stdout",
     "output_type": "stream",
     "text": [
      "NuSVC_classifier accuracy: 0.797583081570997\n"
     ]
    }
   ],
   "source": [
    "NuSVC_classifier = SklearnClassifier(NuSVC())\n",
    "NuSVC_classifier.train(training_set)\n",
    "\n",
    "print('NuSVC_classifier accuracy:', (nltk.classify.accuracy(NuSVC_classifier, testing_set)))\n"
   ]
  },
  {
   "cell_type": "code",
   "execution_count": 29,
   "id": "9eabe739",
   "metadata": {},
   "outputs": [],
   "source": [
    "# Save the classifier with pickle\n",
    "save_classifier = open('pickled_algorithms/NuSVC_classifier.pickle', 'wb')\n",
    "pickle.dump(classifier, save_classifier)\n",
    "save_classifier.close()\n"
   ]
  },
  {
   "cell_type": "code",
   "execution_count": null,
   "id": "294b7053",
   "metadata": {},
   "outputs": [],
   "source": []
  },
  {
   "cell_type": "markdown",
   "id": "3b20c18c",
   "metadata": {},
   "source": [
    "#### Combine algorithms for a voting system\n",
    "\n",
    "https://pythonprogramming.net/combine-classifier-algorithms-nltk-tutorial/\n",
    "\n",
    "it is best to have an odd number of classifiers, e.g., 4/7 vs. 3/7"
   ]
  },
  {
   "cell_type": "code",
   "execution_count": 30,
   "id": "d4c39774",
   "metadata": {},
   "outputs": [
    {
     "name": "stdout",
     "output_type": "stream",
     "text": [
      "voted_classifier accuracy: 0.7870090634441088\n"
     ]
    }
   ],
   "source": [
    "voted_classifier = VoteClassifier(classifier,\n",
    "                                  NuSVC_classifier,\n",
    "                                  LinearSVC_classifier,\n",
    "                                  SGDClassifier_classifier,\n",
    "                                  MNB_classifier,\n",
    "                                  BernoulliNB_classifier,\n",
    "                                  LogisticRegression_classifier)\n",
    "\n",
    "print('voted_classifier accuracy:', (nltk.classify.accuracy(voted_classifier, testing_set)))\n"
   ]
  },
  {
   "cell_type": "code",
   "execution_count": 31,
   "id": "d4cbe463",
   "metadata": {},
   "outputs": [
    {
     "name": "stdout",
     "output_type": "stream",
     "text": [
      "Classification: neg Confidence: 1.0\n",
      "Classification: neg Confidence: 1.0\n",
      "Classification: pos Confidence: 1.0\n",
      "Classification: neg Confidence: 0.8571428571428571\n",
      "Classification: pos Confidence: 1.0\n",
      "Classification: neg Confidence: 1.0\n"
     ]
    }
   ],
   "source": [
    "print('Classification:', voted_classifier.classify(testing_set[0][0]), 'Confidence:',voted_classifier.confidence(testing_set[0][0]))\n",
    "print('Classification:', voted_classifier.classify(testing_set[1][0]), 'Confidence:',voted_classifier.confidence(testing_set[1][0]))\n",
    "print('Classification:', voted_classifier.classify(testing_set[2][0]), 'Confidence:',voted_classifier.confidence(testing_set[2][0]))\n",
    "print('Classification:', voted_classifier.classify(testing_set[3][0]), 'Confidence:',voted_classifier.confidence(testing_set[3][0]))\n",
    "print('Classification:', voted_classifier.classify(testing_set[4][0]), 'Confidence:',voted_classifier.confidence(testing_set[4][0]))\n",
    "print('Classification:', voted_classifier.classify(testing_set[5][0]), 'Confidence:',voted_classifier.confidence(testing_set[5][0]))\n"
   ]
  },
  {
   "cell_type": "code",
   "execution_count": null,
   "id": "2cbe9317",
   "metadata": {},
   "outputs": [],
   "source": []
  }
 ],
 "metadata": {
  "kernelspec": {
   "display_name": "NLP",
   "language": "python",
   "name": "nlp"
  },
  "language_info": {
   "codemirror_mode": {
    "name": "ipython",
    "version": 3
   },
   "file_extension": ".py",
   "mimetype": "text/x-python",
   "name": "python",
   "nbconvert_exporter": "python",
   "pygments_lexer": "ipython3",
   "version": "3.10.9"
  }
 },
 "nbformat": 4,
 "nbformat_minor": 5
}
