{
 "cells": [
  {
   "cell_type": "markdown",
   "id": "f757bf85",
   "metadata": {},
   "source": [
    "https://pythonprogramming.net/stop-words-nltk-tutorial/"
   ]
  },
  {
   "cell_type": "markdown",
   "id": "d302ab02",
   "metadata": {},
   "source": [
    "### Stop Words\n",
    "\n",
    "Words that have no meaning for the analysis, e.g., a, the, and"
   ]
  },
  {
   "cell_type": "code",
   "execution_count": 1,
   "id": "b6d10943",
   "metadata": {},
   "outputs": [],
   "source": [
    "from nltk.corpus import stopwords\n",
    "from nltk.tokenize import word_tokenize"
   ]
  },
  {
   "cell_type": "code",
   "execution_count": 6,
   "id": "daee7843",
   "metadata": {},
   "outputs": [],
   "source": [
    "example_sentence = 'This is an example showing off stop word filtration.'"
   ]
  },
  {
   "cell_type": "code",
   "execution_count": 7,
   "id": "bedb9684",
   "metadata": {},
   "outputs": [],
   "source": [
    "# Stop words in NLTK in the english language (predefined)\n",
    "stop_words = set(stopwords.words('english'))\n"
   ]
  },
  {
   "cell_type": "code",
   "execution_count": 8,
   "id": "ec2e1f50",
   "metadata": {},
   "outputs": [
    {
     "name": "stdout",
     "output_type": "stream",
     "text": [
      "['This', 'example', 'showing', 'stop', 'word', 'filtration', '.']\n"
     ]
    }
   ],
   "source": [
    "# Tokenize the sentence by words\n",
    "words = word_tokenize(example_sentence)\n",
    "\n",
    "# Filter out the stop words\n",
    "filtered_sentence = []\n",
    "\n",
    "for w in words:\n",
    "    if w not in stop_words:\n",
    "        filtered_sentence.append(w)\n",
    "\n",
    "print(filtered_sentence)\n"
   ]
  },
  {
   "cell_type": "code",
   "execution_count": 9,
   "id": "d1581612",
   "metadata": {},
   "outputs": [
    {
     "name": "stdout",
     "output_type": "stream",
     "text": [
      "['This', 'example', 'showing', 'stop', 'word', 'filtration', '.']\n"
     ]
    }
   ],
   "source": [
    "# one liner\n",
    "filtered_sentence = [w for w in words if not w in stop_words]\n",
    "print(filtered_sentence)\n"
   ]
  },
  {
   "cell_type": "code",
   "execution_count": null,
   "id": "76f950d7",
   "metadata": {},
   "outputs": [],
   "source": []
  }
 ],
 "metadata": {
  "kernelspec": {
   "display_name": "NLP",
   "language": "python",
   "name": "nlp"
  },
  "language_info": {
   "codemirror_mode": {
    "name": "ipython",
    "version": 3
   },
   "file_extension": ".py",
   "mimetype": "text/x-python",
   "name": "python",
   "nbconvert_exporter": "python",
   "pygments_lexer": "ipython3",
   "version": "3.10.9"
  }
 },
 "nbformat": 4,
 "nbformat_minor": 5
}
