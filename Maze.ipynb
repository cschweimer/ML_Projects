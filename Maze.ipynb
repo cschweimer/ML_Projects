{
 "cells": [
  {
   "cell_type": "markdown",
   "id": "2de825e2",
   "metadata": {},
   "source": [
    "## Maze Creation and Solving"
   ]
  },
  {
   "cell_type": "markdown",
   "id": "c2c9ed33",
   "metadata": {},
   "source": [
    "This notebook first creates a maze on a grid. Then a bot is created to solve the maze. The bot is then being optimized to find a solution quicker."
   ]
  },
  {
   "cell_type": "markdown",
   "id": "c0ed2918",
   "metadata": {},
   "source": [
    "ToDo:\n",
    "- find solution for closed parts\n",
    "- think about smarter solution for the bot"
   ]
  },
  {
   "cell_type": "code",
   "execution_count": 1,
   "id": "7604b346",
   "metadata": {},
   "outputs": [],
   "source": [
    "import numpy as np\n",
    "import matplotlib.pyplot as plt\n",
    "import random\n",
    "import copy\n"
   ]
  },
  {
   "cell_type": "code",
   "execution_count": null,
   "id": "202cbc8d",
   "metadata": {},
   "outputs": [],
   "source": []
  },
  {
   "cell_type": "markdown",
   "id": "04575439",
   "metadata": {},
   "source": [
    "### Creating the maze"
   ]
  },
  {
   "cell_type": "code",
   "execution_count": 2,
   "id": "03ae004d",
   "metadata": {},
   "outputs": [],
   "source": [
    "# Define the start and finish coordinates\n",
    "START = 0 #default\n",
    "FINISH = 15\n",
    "pitch = []\n",
    "\n",
    "# Dictionary to translate numbers to letters\n",
    "NL = {0: 'A', 1: 'B', 2: 'C', 3: 'D', 4: 'E', 5: 'F', 6: 'G', 7: 'H', 8: 'I', 9: 'J', 10: 'K', 11: 'L', 12: 'M', \n",
    "      13: 'N', 14: 'O', 15: 'P', 16: 'Q', 17: 'R', 18: 'S', 19: 'T', 20: 'U', 21: 'V', 22: 'W', 23: 'X', 24: 'Y', 25: 'Z'}\n",
    "\n",
    "# List for the positions of the individual fields of the maze\n",
    "position_list = []\n",
    "\n",
    "# Dictionaries for translations\n",
    "hor = ['0','1','2','3','4','5','6','7','8','9','10','11','12','13','14','15','16','17','18','19','20','21','22','23','24','25']\n",
    "ver = ['A','B','C','D','E','F','G','H','I','J','K','L','M','N','O','P','Q','R','S','T','U','V','W','X','Y','Z']\n"
   ]
  },
  {
   "cell_type": "code",
   "execution_count": 3,
   "id": "45d11b5a",
   "metadata": {},
   "outputs": [],
   "source": [
    "# Create initial pitch (square field with a fixed start and fixed finish)\n",
    "for i in range(FINISH):\n",
    "    for j in range(FINISH):\n",
    "        if i == START:\n",
    "            if j == FINISH-1:\n",
    "                pos = {'position': NL[i]+str(j), 'x': i + 0.5, 'y': j + 0.5, 'l': 1, 'u': 1, 'r': 0, 'd': 0, 'walls': 2}\n",
    "            else:\n",
    "                pos = {'position': NL[i]+str(j), 'x': i + 0.5, 'y': j + 0.5, 'l': 1, 'u': 0, 'r': 0, 'd': 0, 'walls': 1}\n",
    "        elif i == FINISH-1:\n",
    "            if j == START:\n",
    "                pos = {'position': NL[i]+str(j), 'x': i + 0.5, 'y': j + 0.5, 'l': 0, 'u': 0, 'r': 1, 'd': 1, 'walls': 2}\n",
    "            else:\n",
    "                pos = {'position': NL[i]+str(j), 'x': i + 0.5, 'y': j + 0.5, 'l': 0, 'u': 0, 'r': 1, 'd': 0, 'walls': 1}\n",
    "        else:\n",
    "            if j == START:\n",
    "                pos = {'position': NL[i]+str(j), 'x': i + 0.5, 'y': j + 0.5, 'l': 0, 'u': 0, 'r': 0, 'd': 1, 'walls': 1}\n",
    "            elif j == FINISH-1:\n",
    "                pos = {'position': NL[i]+str(j), 'x': i + 0.5, 'y': j + 0.5, 'l': 0, 'u': 1, 'r': 0, 'd': 0, 'walls': 1}\n",
    "            else:\n",
    "                pos = {'position': NL[i]+str(j), 'x': i + 0.5, 'y': j + 0.5, 'l': 0, 'u': 0, 'r': 0, 'd': 0, 'walls': 0}    \n",
    "        \n",
    "        pitch.append(pos)\n",
    "        \n",
    "        # Create list for positions\n",
    "        position_list.append(NL[i]+str(j))\n",
    "        \n",
    "# Define start and finish position\n",
    "start = {'position': ver[0]+str(-1), 'name': 'Start', 'x': 0.5, 'y': -0.5, 'l': 1, 'u': 0, 'r': 1, 'd': 1, 'walls': 3}\n",
    "finish = {'position': ver[FINISH-1]+hor[FINISH], 'name': 'Finish', 'x': FINISH-0.5, 'y': FINISH+0.5, 'l': 1, 'u': 1, 'r': 1, 'd': 0, 'walls': 3}\n",
    "\n",
    "# Add start and finish position to the pitch\n",
    "pitch.append(start)\n",
    "pitch.append(finish)\n"
   ]
  },
  {
   "cell_type": "code",
   "execution_count": 4,
   "id": "91d2c741",
   "metadata": {},
   "outputs": [],
   "source": [
    "# Add walls to the pitch by going through each field\n",
    "for h in range(len(pitch)):\n",
    "    \n",
    "    pos = pitch[h]\n",
    "    \n",
    "    # A wall can only be inserted if a field has less than two walls\n",
    "    if pos['walls'] < 2:\n",
    "    \n",
    "        # potential walls for a field\n",
    "        position = []\n",
    "        if pos['l'] == 0:\n",
    "            position.append('l')\n",
    "        if pos['u'] == 0:\n",
    "            position.append('u')\n",
    "        if pos['r'] == 0:\n",
    "            position.append('r')\n",
    "        if pos['d'] == 0:\n",
    "            position.append('d')\n",
    "\n",
    "        if pos['position'] == position_list[0]:\n",
    "            position.remove('d')\n",
    "        if pos['position'] == position_list[-1]:\n",
    "            position.remove('u')\n",
    "        \n",
    "        # Make sure to not put 3 walls around one field\n",
    "        if len(position) > 2:\n",
    "            choice = random.choice(position)\n",
    "            \n",
    "            if choice == 'u':\n",
    "                # Neighbor of the field\n",
    "                neighbor = pos['position'][0] + hor[np.where(np.array(hor) == pos['position'][1:])[0][0]+1]\n",
    "\n",
    "                # Check if a wall can be inserted, i.e., field and neighbor have only one wall at max\n",
    "                if pitch[np.where(np.array(position_list) == neighbor)[0][0]]['walls'] < 2:\n",
    "                    pitch[np.where(np.array(position_list) == neighbor)[0][0]]['d'] = 1\n",
    "                    pitch[np.where(np.array(position_list) == neighbor)[0][0]]['walls'] += 1\n",
    "\n",
    "                    pos[choice] = 1\n",
    "                    pos['walls'] += 1\n",
    "\n",
    "            if choice == 'd':\n",
    "                neighbor = pos['position'][0] + hor[np.where(np.array(hor) == pos['position'][1:])[0][0]-1]            \n",
    "\n",
    "                if pitch[np.where(np.array(position_list) == neighbor)[0][0]]['walls'] < 2:\n",
    "                    pitch[np.where(np.array(position_list) == neighbor)[0][0]]['u'] = 1\n",
    "                    pitch[np.where(np.array(position_list) == neighbor)[0][0]]['walls'] += 1\n",
    "\n",
    "                    pos[choice] = 1\n",
    "                    pos['walls'] += 1\n",
    "\n",
    "            if choice == 'r':\n",
    "                neighbor = ver[np.where(np.array(ver) == pos['position'][0])[0][0]+1] + pos['position'][1:]\n",
    "\n",
    "                if pitch[np.where(np.array(position_list) == neighbor)[0][0]]['walls'] < 2:\n",
    "                    pitch[np.where(np.array(position_list) == neighbor)[0][0]]['l'] = 1\n",
    "                    pitch[np.where(np.array(position_list) == neighbor)[0][0]]['walls'] += 1\n",
    "\n",
    "                    pos[choice] = 1\n",
    "                    pos['walls'] += 1\n",
    "                      \n",
    "            if choice == 'l':\n",
    "                neighbor = ver[np.where(np.array(ver) == pos['position'][0])[0][0]-1] + pos['position'][1:]\n",
    "\n",
    "                if pitch[np.where(np.array(position_list) == neighbor)[0][0]]['walls'] < 2:\n",
    "                    pitch[np.where(np.array(position_list) == neighbor)[0][0]]['r'] = 1\n",
    "                    pitch[np.where(np.array(position_list) == neighbor)[0][0]]['walls'] += 1\n",
    "\n",
    "                    pos[choice] = 1\n",
    "                    pos['walls'] += 1\n"
   ]
  },
  {
   "cell_type": "code",
   "execution_count": 5,
   "id": "3dbe025d",
   "metadata": {},
   "outputs": [],
   "source": [
    "# Make a copy of the pitch\n",
    "pitch_copy = copy.deepcopy(pitch)\n"
   ]
  },
  {
   "cell_type": "code",
   "execution_count": 6,
   "id": "abd77605",
   "metadata": {},
   "outputs": [
    {
     "data": {
      "image/png": "[encoded data removed]",
      "text/plain": [
       "<Figure size 612x612 with 1 Axes>"
      ]
     },
     "metadata": {
      "needs_background": "light"
     },
     "output_type": "display_data"
    }
   ],
   "source": [
    "# Plot the pitch\n",
    "fig,ax = plt.subplots(figsize=((FINISH+2)/2,(FINISH+2)/2))\n",
    "\n",
    "plt.title('Maze')\n",
    "\n",
    "plt.xlim(-1,FINISH+3)\n",
    "plt.ylim(-2,FINISH+2)\n",
    "\n",
    "plt.axis('off')\n",
    "\n",
    "for i in range(len(pitch)):\n",
    "    try:\n",
    "        if pitch[i]['name'] == 'Start':\n",
    "            ax.annotate('S', xy=(pitch[i]['x']-0.1,pitch[i]['y']-0.1), color='black', fontsize=10)\n",
    "        if pitch[i]['name'] == 'Finish':\n",
    "            ax.annotate('F', xy=(pitch[i]['x']-0.1,pitch[i]['y']-0.1), color='black', fontsize=10)        \n",
    "    except KeyError: \n",
    "        pass\n",
    "\n",
    "    if pitch[i]['l'] == 1:\n",
    "        plt.vlines(x=pitch[i]['x']-0.5, ymin=pitch[i]['y']-0.5, ymax=pitch[i]['y']+0.5, linewidth=1, color='black')\n",
    "    if pitch[i]['r'] == 1:\n",
    "        plt.vlines(x=pitch[i]['x']+0.5, ymin=pitch[i]['y']-0.5, ymax=pitch[i]['y']+0.5, linewidth=1, color='black')\n",
    "    if pitch[i]['d'] == 1:\n",
    "        plt.hlines(y=pitch[i]['y']-0.5, xmin=pitch[i]['x']-0.5, xmax=pitch[i]['x']+0.5, linewidth=1, color='black') \n",
    "    if pitch[i]['u'] == 1:\n",
    "        plt.hlines(y=pitch[i]['y']+0.5, xmin=pitch[i]['x']-0.5, xmax=pitch[i]['x']+0.5, linewidth=1, color='black') \n",
    "    "
   ]
  },
  {
   "cell_type": "code",
   "execution_count": null,
   "id": "7092a32a",
   "metadata": {},
   "outputs": [],
   "source": []
  },
  {
   "cell_type": "markdown",
   "id": "7cbdfac6",
   "metadata": {},
   "source": [
    "### Solving the maze"
   ]
  },
  {
   "cell_type": "code",
   "execution_count": 7,
   "id": "4ad0e54c",
   "metadata": {},
   "outputs": [],
   "source": [
    "# Add start and finish to list of positions\n",
    "position_list.append(ver[0]+str(-1))\n",
    "position_list.append(ver[FINISH-1]+hor[FINISH])\n"
   ]
  },
  {
   "cell_type": "code",
   "execution_count": 8,
   "id": "8e1fbc8f",
   "metadata": {},
   "outputs": [],
   "source": [
    "# Start position\n",
    "current_position = position_list[-2]\n",
    "\n",
    "# Define the bot\n",
    "bot = {'position': current_position}\n",
    "\n",
    "# Steps the bot undertakes during one run\n",
    "bot_run = []\n",
    "bot_run.append(current_position)\n",
    "\n",
    "# Directions the bot took\n",
    "directions = []\n",
    "\n",
    "# Total steps per run\n",
    "total_steps = list(range(-4,0))\n",
    "total_steps.append(np.inf)\n",
    "\n",
    "counter = 0\n",
    "\n",
    "# Total number of iterations\n",
    "iterations = 0\n",
    "\n",
    "# Number of times for directions to add tendencies\n",
    "U = 1\n",
    "D = 1\n",
    "R = 1\n",
    "L = 1\n",
    "\n",
    "# Shortest solution\n",
    "BEST = np.inf\n"
   ]
  },
  {
   "cell_type": "code",
   "execution_count": 9,
   "id": "0ff4b1bf",
   "metadata": {},
   "outputs": [
    {
     "name": "stdout",
     "output_type": "stream",
     "text": [
      "Maze solved in 535 steps.\n",
      "Maze solved in 305 steps.\n",
      "Maze solved in 247 steps.\n",
      "Maze solved in 85 steps.\n",
      "Maze solved in 65 steps.\n",
      "Maze solved in 39 steps.\n",
      "Maze solved in 37 steps.\n",
      "Maze solved in 35 steps.\n",
      "Maze solved in 35 steps.\n",
      "Maze solved in 35 steps.\n",
      "Maze solved in 35 steps.\n",
      "Maze solved in 35 steps.\n"
     ]
    }
   ],
   "source": [
    "# Improving the bot until it needs the same amount of steps 5 times at max\n",
    "#while not (total_steps[counter+int(np.round(FINISH/2))] == total_steps[counter]):\n",
    "\n",
    "while not (total_steps[counter+4] == total_steps[counter]):\n",
    "    # Start position\n",
    "    current_position = position_list[-2]\n",
    "\n",
    "    # Define the bot\n",
    "    bot = {'position': current_position}\n",
    "    \n",
    "    # Steps the bot undertakes\n",
    "    bot_run = []\n",
    "    bot_run.append(current_position)\n",
    "    \n",
    "    # Directions the bot took\n",
    "    directions = []\n",
    "    \n",
    "    # Total number of iterations\n",
    "    iterations = 0\n",
    "\n",
    "    # Loop until bot reaches finish\n",
    "    while ((bot['position'] != position_list[-1]) and (len(bot_run) <= BEST)):\n",
    "        h = np.where(np.array(position_list) == bot['position'])[0][0]\n",
    "\n",
    "        pos = pitch_copy[h]\n",
    "        position = []\n",
    "        if pos['l'] == 0:\n",
    "            position.append('l')\n",
    "        if pos['u'] == 0:\n",
    "            position.append('u')\n",
    "        if pos['r'] == 0:\n",
    "            position.append('r')\n",
    "        if pos['d'] == 0:\n",
    "            position.append('d')\n",
    "\n",
    "        if iterations > 0 and new_position != ver[0]+str(-1):\n",
    "\n",
    "            # Prevent back-and-forth moves\n",
    "            if directions[iterations-1] == 'u':\n",
    "                try:\n",
    "                    position.remove('d')\n",
    "                except ValueError:\n",
    "                    pass\n",
    "\n",
    "            if directions[iterations-1] == 'd':\n",
    "                try:\n",
    "                    position.remove('u')\n",
    "                except ValueError:\n",
    "                    pass\n",
    "\n",
    "            if directions[iterations-1] == 'r':\n",
    "                try:\n",
    "                    position.remove('l')\n",
    "                except ValueError:\n",
    "                    pass\n",
    "\n",
    "            if directions[iterations-1] == 'l':\n",
    "                try:\n",
    "                    position.remove('r')\n",
    "                except ValueError:\n",
    "                    pass\n",
    "\n",
    "        # Decision where to go based on probabilistic tendencies of all runs\n",
    "        prob = []\n",
    "        if 'l' in position:\n",
    "            prob.append(L)\n",
    "        if 'u' in position:\n",
    "            prob.append(U)\n",
    "        if 'r' in position:\n",
    "            prob.append(R)\n",
    "        if 'd' in position:\n",
    "            prob.append(D)\n",
    "        \n",
    "        #choice = random.choice(position)\n",
    "        choice = random.choices(position, weights=prob, k=1)[0]\n",
    "        directions.append(choice)\n",
    "\n",
    "        if choice == 'u':\n",
    "            new_position = pos['position'][0] + str(int(pos['position'][1:])+1)\n",
    "            U += 1\n",
    "\n",
    "        if choice == 'd':\n",
    "            new_position = pos['position'][0] + str(int(pos['position'][1:])-1)\n",
    "            D += 1\n",
    "\n",
    "        if choice == 'l':\n",
    "            new_position = ver[np.where(np.array(ver) == pos['position'][0])[0][0]-1] + pos['position'][1:]\n",
    "            L += 1\n",
    "\n",
    "        if choice == 'r':\n",
    "            new_position = ver[np.where(np.array(ver) == pos['position'][0])[0][0]+1] + pos['position'][1:]\n",
    "            R += 1\n",
    "            \n",
    "        bot_run.append(new_position)\n",
    "        bot['position'] = new_position\n",
    "        iterations += 1\n",
    "        \n",
    "    if len(bot_run) <= BEST:\n",
    "        BEST = len(bot_run)\n",
    "        BEST_solution = bot_run\n",
    "        \n",
    "        print('Maze solved in {} steps.'.format(len(bot_run)))\n",
    "\n",
    "    if len(bot_run)<=total_steps[-1]:\n",
    "        total_steps.append(len(bot_run))\n",
    "        counter+=1\n"
   ]
  },
  {
   "cell_type": "code",
   "execution_count": 10,
   "id": "97c01bac",
   "metadata": {},
   "outputs": [
    {
     "data": {
      "image/png": "[encoded data removed]",
      "text/plain": [
       "<Figure size 612x612 with 1 Axes>"
      ]
     },
     "metadata": {
      "needs_background": "light"
     },
     "output_type": "display_data"
    }
   ],
   "source": [
    "# Plot the pitch and solution\n",
    "fig,ax = plt.subplots(figsize=((FINISH+2)/2,(FINISH+2)/2))\n",
    "\n",
    "plt.title('Solution')\n",
    "\n",
    "plt.xlim(-1,FINISH+3)\n",
    "plt.ylim(-2,FINISH+2)\n",
    "\n",
    "plt.axis('off')\n",
    "\n",
    "for i in range(len(pitch)):\n",
    "    try:\n",
    "        if pitch[i]['name'] == 'Start':\n",
    "            ax.annotate('S', xy=(pitch[i]['x']-0.1,pitch[i]['y']-0.1), color='black', fontsize=10)\n",
    "        if pitch[i]['name'] == 'Finish':\n",
    "            ax.annotate('F', xy=(pitch[i]['x']-0.1,pitch[i]['y']-0.1), color='black', fontsize=10)        \n",
    "    except KeyError: \n",
    "        pass\n",
    "\n",
    "    if pitch[i]['l'] == 1:\n",
    "        plt.vlines(x=pitch[i]['x']-0.5, ymin=pitch[i]['y']-0.5, ymax=pitch[i]['y']+0.5, linewidth=1, color='black')\n",
    "    if pitch[i]['r'] == 1:\n",
    "        plt.vlines(x=pitch[i]['x']+0.5, ymin=pitch[i]['y']-0.5, ymax=pitch[i]['y']+0.5, linewidth=1, color='black')\n",
    "    if pitch[i]['d'] == 1:\n",
    "        plt.hlines(y=pitch[i]['y']-0.5, xmin=pitch[i]['x']-0.5, xmax=pitch[i]['x']+0.5, linewidth=1, color='black') \n",
    "    if pitch[i]['u'] == 1:\n",
    "        plt.hlines(y=pitch[i]['y']+0.5, xmin=pitch[i]['x']-0.5, xmax=pitch[i]['x']+0.5, linewidth=1, color='black') \n",
    "        \n",
    "# Fields the bot visited\n",
    "for i in range(len(BEST_solution)):\n",
    "    plt.scatter(pitch[np.where(np.array(position_list) == BEST_solution[i])[0][0]]['x'],\n",
    "                pitch[np.where(np.array(position_list) == BEST_solution[i])[0][0]]['y'],\n",
    "                color = 'blue', s=2)\n",
    "\n",
    "# Steps the bot took\n",
    "for i in range(len(BEST_solution)-1):\n",
    "    plt.plot((pitch[np.where(np.array(position_list) == BEST_solution[i])[0][0]]['x'],\n",
    "              pitch[np.where(np.array(position_list) == BEST_solution[i+1])[0][0]]['x']),\n",
    "             (pitch[np.where(np.array(position_list) == BEST_solution[i])[0][0]]['y'],\n",
    "              pitch[np.where(np.array(position_list) == BEST_solution[i+1])[0][0]]['y']),\n",
    "             color='red')\n",
    "    "
   ]
  },
  {
   "cell_type": "code",
   "execution_count": 11,
   "id": "4e88e785",
   "metadata": {},
   "outputs": [
    {
     "name": "stdout",
     "output_type": "stream",
     "text": [
      "332936 278315 101082 151450\n"
     ]
    }
   ],
   "source": [
    "# Stats about the tendency\n",
    "print(U,R,D,L)\n"
   ]
  },
  {
   "cell_type": "code",
   "execution_count": null,
   "id": "3b70ae93",
   "metadata": {},
   "outputs": [],
   "source": []
  }
 ],
 "metadata": {
  "kernelspec": {
   "display_name": "Race",
   "language": "python",
   "name": "race"
  },
  "language_info": {
   "codemirror_mode": {
    "name": "ipython",
    "version": 3
   },
   "file_extension": ".py",
   "mimetype": "text/x-python",
   "name": "python",
   "nbconvert_exporter": "python",
   "pygments_lexer": "ipython3",
   "version": "3.10.4"
  }
 },
 "nbformat": 4,
 "nbformat_minor": 5
}
