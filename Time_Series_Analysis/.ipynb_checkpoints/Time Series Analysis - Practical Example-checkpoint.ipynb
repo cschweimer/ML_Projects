{
 "cells": [
  {
   "cell_type": "markdown",
   "id": "a3ab1824",
   "metadata": {},
   "source": [
    "### A Guide to Time Series Analysis in Python\n",
    "\n",
    "Source: https://builtin.com/data-science/time-series-python"
   ]
  },
  {
   "cell_type": "code",
   "execution_count": null,
   "id": "3792b67f",
   "metadata": {},
   "outputs": [
    {
     "name": "stderr",
     "output_type": "stream",
     "text": [
      "C:\\Users\\Christoph\\anaconda3\\envs\\ML\\lib\\site-packages\\scipy\\__init__.py:146: UserWarning: A NumPy version >=1.16.5 and <1.23.0 is required for this version of SciPy (detected version 1.26.3\n",
      "  warnings.warn(f\"A NumPy version >={np_minversion} and <{np_maxversion}\"\n"
     ]
    }
   ],
   "source": [
    "import pandas as pd \n",
    "import matplotlib.pyplot as plt\n",
    "import seaborn as sns\n",
    "from statsmodels.tsa.stattools import adfuller\n",
    "from math import sqrt\n",
    "from sklearn.metrics import mean_squared_error\n"
   ]
  },
  {
   "cell_type": "code",
   "execution_count": null,
   "id": "70b8f2e5",
   "metadata": {},
   "outputs": [],
   "source": [
    "# Read the data\n",
    "df = pd.read_csv('AirPassengers.csv')\n",
    "\n",
    "df.head()\n"
   ]
  },
  {
   "cell_type": "code",
   "execution_count": null,
   "id": "c4bd9bd8",
   "metadata": {},
   "outputs": [],
   "source": [
    "# Format the data into datetime object\n",
    "df['Month'] = pd.to_datetime(df['Month'], format='%Y-%m')\n",
    "\n",
    "# Convert month column to an index\n",
    "df.index = df['Month']\n",
    "del df['Month']\n"
   ]
  },
  {
   "cell_type": "code",
   "execution_count": null,
   "id": "06b9ae95",
   "metadata": {},
   "outputs": [],
   "source": [
    "# Plot the data\n",
    "sns.lineplot(df)\n",
    "plt.ylabel('Number of Passengers')\n",
    "plt.show()\n"
   ]
  },
  {
   "cell_type": "code",
   "execution_count": null,
   "id": "6baabcf2",
   "metadata": {},
   "outputs": [],
   "source": []
  },
  {
   "cell_type": "markdown",
   "id": "100789dd",
   "metadata": {},
   "source": [
    "#### Stationarity (is the data change constant)\n",
    "\n",
    "Dickey Fuller Test:\n",
    "\n",
    "null-hypothesis: there is no stationarity"
   ]
  },
  {
   "cell_type": "code",
   "execution_count": null,
   "id": "4d0ad61a",
   "metadata": {},
   "outputs": [],
   "source": [
    "# 7-month mean and standard deviation\n",
    "rolling_mean = df.rolling(7).mean()\n",
    "rolling_std = df.rolling(7).std()\n"
   ]
  },
  {
   "cell_type": "code",
   "execution_count": null,
   "id": "3120514c",
   "metadata": {},
   "outputs": [],
   "source": [
    "plt.plot(df, color='blue', label='Original Passenger Data')\n",
    "plt.plot(rolling_mean, color='red', label='Rolling Mean Passenger Number')\n",
    "plt.plot(rolling_std, color='black', label = 'Rolling Standard Deviation in Passenger Number')\n",
    "plt.title('Passenger Time Series, Rolling Mean, Standard Deviation')\n",
    "plt.legend(loc='best')\n",
    "plt.show()\n"
   ]
  },
  {
   "cell_type": "code",
   "execution_count": null,
   "id": "80a77a9e",
   "metadata": {},
   "outputs": [],
   "source": [
    "# Dickey Fuller Test\n",
    "from statsmodels.tsa.stattools import adfuller\n",
    "\n",
    "adft = adfuller(df, autolag='AIC')\n",
    "\n",
    "output_df = pd.DataFrame({'Values': [adft[0], adft[1], adft[2], adft[3], \n",
    "                                     adft[4]['1%'], adft[4]['5%'], adft[4]['10%']],\n",
    "                          'Metric': ['Test Statistics', 'p-value', 'No. of lags used', 'Number of observations used', \n",
    "                                     'critical value (1%)', 'critical value (5%)', 'critical value (10%)']})\n",
    "print(output_df)\n"
   ]
  },
  {
   "cell_type": "code",
   "execution_count": null,
   "id": "a41a716c",
   "metadata": {},
   "outputs": [],
   "source": [
    "# The data is not stationary since the p-value is above 5% and the test statistic is greater than the critical value"
   ]
  },
  {
   "cell_type": "code",
   "execution_count": null,
   "id": "2cae7fc1",
   "metadata": {},
   "outputs": [],
   "source": []
  },
  {
   "cell_type": "markdown",
   "id": "96679dc6",
   "metadata": {},
   "source": [
    "#### Autocorrelation (is there a corrleation in the data with past values)"
   ]
  },
  {
   "cell_type": "code",
   "execution_count": null,
   "id": "5c9c3756",
   "metadata": {},
   "outputs": [],
   "source": [
    "# One month lag\n",
    "autocorrelation_lag1 = df['#Passengers'].autocorr(lag=1)\n",
    "print('One Month Lag:', autocorrelation_lag1)\n",
    "\n",
    "# Three month lag\n",
    "autocorrelation_lag3 = df['#Passengers'].autocorr(lag=3)\n",
    "print('Three Month Lag:', autocorrelation_lag3)\n",
    "\n",
    "# Six month lag\n",
    "autocorrelation_lag6 = df['#Passengers'].autocorr(lag=6)\n",
    "print('Six Month Lag:', autocorrelation_lag6)\n",
    "\n",
    "# Nine month lag\n",
    "autocorrelation_lag9 = df['#Passengers'].autocorr(lag=9)\n",
    "print('Nine Month Lag:', autocorrelation_lag9)\n"
   ]
  },
  {
   "cell_type": "code",
   "execution_count": null,
   "id": "494c3967",
   "metadata": {},
   "outputs": [],
   "source": []
  },
  {
   "cell_type": "markdown",
   "id": "ab8e1a10",
   "metadata": {},
   "source": [
    "#### Decomposition (to visualize trends)"
   ]
  },
  {
   "cell_type": "code",
   "execution_count": null,
   "id": "622044db",
   "metadata": {},
   "outputs": [],
   "source": [
    "from statsmodels.tsa.seasonal import seasonal_decompose\n",
    "\n",
    "decompose = seasonal_decompose(df['#Passengers'], model='additive', period=7)\n",
    "decompose.plot()\n",
    "plt.show()\n"
   ]
  },
  {
   "cell_type": "code",
   "execution_count": null,
   "id": "28c8c3f8",
   "metadata": {},
   "outputs": [],
   "source": []
  },
  {
   "cell_type": "markdown",
   "id": "fd454255",
   "metadata": {},
   "source": [
    "#### Forecasting\n",
    "\n",
    "with ARIMA"
   ]
  },
  {
   "cell_type": "code",
   "execution_count": null,
   "id": "1ecb2a3c",
   "metadata": {},
   "outputs": [],
   "source": [
    "# Training data\n",
    "df['Date'] = df.index\n",
    "train = df[df['Date'] < pd.to_datetime('1960-08', format='%Y-%m')]\n",
    "train['train'] = train['#Passengers']\n",
    "\n",
    "# Test data\n",
    "del train['Date']\n",
    "del train['#Passengers']\n",
    "test = df[df['Date'] >= pd.to_datetime('1960-08', format='%Y-%m')]\n",
    "del test['Date']\n",
    "test['test'] = test['#Passengers']\n",
    "del test['#Passengers']\n"
   ]
  },
  {
   "cell_type": "code",
   "execution_count": null,
   "id": "d7c8f7e5",
   "metadata": {},
   "outputs": [],
   "source": [
    "# Plot train and test data together\n",
    "plt.plot(train, color = 'black')\n",
    "plt.plot(test, color = 'red')\n",
    "plt.title('Train/Test split for Passenger Data')\n",
    "plt.ylabel('Passenger Number')\n",
    "plt.xlabel('Year-Month')\n",
    "sns.set()\n",
    "plt.show()\n"
   ]
  },
  {
   "cell_type": "code",
   "execution_count": null,
   "id": "cc047a88",
   "metadata": {},
   "outputs": [],
   "source": [
    "# Train the model\n",
    "from pmdarima.arima import auto_arima\n",
    "\n",
    "model = auto_arima(train, trace=True, error_action='ignore', suppress_warnings=True)\n",
    "model.fit(train)\n"
   ]
  },
  {
   "cell_type": "code",
   "execution_count": null,
   "id": "cbce9f06",
   "metadata": {},
   "outputs": [],
   "source": [
    "# Forecast\n",
    "forecast = model.predict(n_periods = len(test))\n",
    "forecast = pd.DataFrame(forecast, index = test.index, columns=['Prediction'])\n"
   ]
  },
  {
   "cell_type": "code",
   "execution_count": null,
   "id": "74d23f94",
   "metadata": {},
   "outputs": [],
   "source": [
    "# Calculate RMSE\n",
    "rms = sqrt(mean_squared_error(test,forecast))\n",
    "print('RMSE:', rms)\n"
   ]
  },
  {
   "cell_type": "code",
   "execution_count": null,
   "id": "1744348e",
   "metadata": {},
   "outputs": [],
   "source": [
    "# Plot the results\n",
    "plt.plot(train, color = 'black')\n",
    "plt.plot(test, color = 'red', label='true values')\n",
    "plt.plot(forecast, color= 'limegreen', label='predicted values')\n",
    "plt.title('Train/Test split for Passenger Data')\n",
    "plt.ylabel('Passenger Number')\n",
    "plt.xlabel('Year-Month')\n",
    "plt.legend()\n",
    "sns.set()\n",
    "plt.show()\n"
   ]
  },
  {
   "cell_type": "code",
   "execution_count": null,
   "id": "625818c7",
   "metadata": {},
   "outputs": [],
   "source": []
  }
 ],
 "metadata": {
  "kernelspec": {
   "display_name": "ML",
   "language": "python",
   "name": "ml"
  },
  "language_info": {
   "codemirror_mode": {
    "name": "ipython",
    "version": 3
   },
   "file_extension": ".py",
   "mimetype": "text/x-python",
   "name": "python",
   "nbconvert_exporter": "python",
   "pygments_lexer": "ipython3",
   "version": "3.10.9"
  }
 },
 "nbformat": 4,
 "nbformat_minor": 5
}
